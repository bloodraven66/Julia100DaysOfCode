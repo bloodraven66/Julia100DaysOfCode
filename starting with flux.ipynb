{
 "cells": [
  {
   "cell_type": "code",
   "execution_count": 2,
   "id": "9adb7a94",
   "metadata": {},
   "outputs": [],
   "source": [
    "using Flux"
   ]
  },
  {
   "cell_type": "code",
   "execution_count": 3,
   "id": "9c8546ce",
   "metadata": {},
   "outputs": [
    {
     "data": {
      "text/plain": [
       "Dense(1 => 1)       \u001b[90m# 2 parameters\u001b[39m"
      ]
     },
     "execution_count": 3,
     "metadata": {},
     "output_type": "execute_result"
    }
   ],
   "source": [
    "model = Dense(1, 1)"
   ]
  },
  {
   "cell_type": "code",
   "execution_count": 4,
   "id": "f6bb4def",
   "metadata": {},
   "outputs": [
    {
     "data": {
      "text/plain": [
       "1×1 Matrix{Float32}:\n",
       " -0.07157447"
      ]
     },
     "execution_count": 4,
     "metadata": {},
     "output_type": "execute_result"
    }
   ],
   "source": [
    "model.weight"
   ]
  },
  {
   "cell_type": "code",
   "execution_count": 5,
   "id": "507a71e9",
   "metadata": {},
   "outputs": [
    {
     "data": {
      "text/plain": [
       "1-element Vector{Float32}:\n",
       " 0.0"
      ]
     },
     "execution_count": 5,
     "metadata": {},
     "output_type": "execute_result"
    }
   ],
   "source": [
    "model.bias"
   ]
  },
  {
   "cell_type": "code",
   "execution_count": 8,
   "id": "7039d87c",
   "metadata": {},
   "outputs": [
    {
     "data": {
      "text/plain": [
       "Chain(\n",
       "  Dense(1 => 2),                        \u001b[90m# 4 parameters\u001b[39m\n",
       "  Dense(2 => 1),                        \u001b[90m# 3 parameters\u001b[39m\n",
       ") \u001b[90m                  # Total: 4 arrays, \u001b[39m7 parameters, 284 bytes."
      ]
     },
     "execution_count": 8,
     "metadata": {},
     "output_type": "execute_result"
    }
   ],
   "source": [
    "layer1 = Dense(1, 2)\n",
    "layer2 = Dense(2, 1)\n",
    "model = Chain(layer1, layer2)"
   ]
  },
  {
   "cell_type": "code",
   "execution_count": 15,
   "id": "7d9af879",
   "metadata": {},
   "outputs": [
    {
     "data": {
      "text/plain": [
       "Conv((5, 5), 2 => 4, relu)  \u001b[90m# 204 parameters\u001b[39m"
      ]
     },
     "execution_count": 15,
     "metadata": {},
     "output_type": "execute_result"
    }
   ],
   "source": [
    "conv1 = Conv((5, 5), 2 => 4, relu)"
   ]
  },
  {
   "cell_type": "code",
   "execution_count": 21,
   "id": "5000668a",
   "metadata": {},
   "outputs": [
    {
     "data": {
      "text/plain": [
       "(100, 100, 2, 50)"
      ]
     },
     "execution_count": 21,
     "metadata": {},
     "output_type": "execute_result"
    }
   ],
   "source": [
    "xs = rand(Float32, 100, 100, 2, 50);\n",
    "size(xs)"
   ]
  },
  {
   "cell_type": "code",
   "execution_count": 24,
   "id": "921be1f3",
   "metadata": {},
   "outputs": [
    {
     "data": {
      "text/plain": [
       "(96, 96, 4, 50)"
      ]
     },
     "execution_count": 24,
     "metadata": {},
     "output_type": "execute_result"
    }
   ],
   "source": [
    "o = conv1(xs);\n",
    "size(o)"
   ]
  },
  {
   "cell_type": "code",
   "execution_count": 25,
   "id": "db012f4e",
   "metadata": {},
   "outputs": [],
   "source": [
    "using Plots"
   ]
  },
  {
   "cell_type": "code",
   "execution_count": 26,
   "id": "8c61b696",
   "metadata": {},
   "outputs": [
    {
     "data": {
      "text/plain": [
       "σ (generic function with 2 methods)"
      ]
     },
     "execution_count": 26,
     "metadata": {},
     "output_type": "execute_result"
    }
   ],
   "source": [
    "σ"
   ]
  },
  {
   "cell_type": "code",
   "execution_count": 28,
   "id": "8599d5d6",
   "metadata": {},
   "outputs": [
    {
     "data": {
      "image/svg+xml": [
       "<?xml version=\"1.0\" encoding=\"utf-8\"?>\n",
       "<svg xmlns=\"http://www.w3.org/2000/svg\" xmlns:xlink=\"http://www.w3.org/1999/xlink\" width=\"600\" height=\"400\" viewBox=\"0 0 2400 1600\">\n",
       "<defs>\n",
       "  <clipPath id=\"clip780\">\n",
       "    <rect x=\"0\" y=\"0\" width=\"2400\" height=\"1600\"/>\n",
       "  </clipPath>\n",
       "</defs>\n",
       "<path clip-path=\"url(#clip780)\" d=\"\n",
       "M0 1600 L2400 1600 L2400 0 L0 0  Z\n",
       "  \" fill=\"#ffffff\" fill-rule=\"evenodd\" fill-opacity=\"1\"/>\n",
       "<defs>\n",
       "  <clipPath id=\"clip781\">\n",
       "    <rect x=\"480\" y=\"0\" width=\"1681\" height=\"1600\"/>\n",
       "  </clipPath>\n",
       "</defs>\n",
       "<path clip-path=\"url(#clip780)\" d=\"\n",
       "M186.274 1486.45 L2352.76 1486.45 L2352.76 47.2441 L186.274 47.2441  Z\n",
       "  \" fill=\"#ffffff\" fill-rule=\"evenodd\" fill-opacity=\"1\"/>\n",
       "<defs>\n",
       "  <clipPath id=\"clip782\">\n",
       "    <rect x=\"186\" y=\"47\" width=\"2167\" height=\"1440\"/>\n",
       "  </clipPath>\n",
       "</defs>\n",
       "<polyline clip-path=\"url(#clip782)\" style=\"stroke:#000000; stroke-linecap:butt; stroke-linejoin:round; stroke-width:2; stroke-opacity:0.1; fill:none\" points=\"\n",
       "  451.975,1486.45 451.975,47.2441 \n",
       "  \"/>\n",
       "<polyline clip-path=\"url(#clip782)\" style=\"stroke:#000000; stroke-linecap:butt; stroke-linejoin:round; stroke-width:2; stroke-opacity:0.1; fill:none\" points=\"\n",
       "  860.745,1486.45 860.745,47.2441 \n",
       "  \"/>\n",
       "<polyline clip-path=\"url(#clip782)\" style=\"stroke:#000000; stroke-linecap:butt; stroke-linejoin:round; stroke-width:2; stroke-opacity:0.1; fill:none\" points=\"\n",
       "  1269.51,1486.45 1269.51,47.2441 \n",
       "  \"/>\n",
       "<polyline clip-path=\"url(#clip782)\" style=\"stroke:#000000; stroke-linecap:butt; stroke-linejoin:round; stroke-width:2; stroke-opacity:0.1; fill:none\" points=\"\n",
       "  1678.29,1486.45 1678.29,47.2441 \n",
       "  \"/>\n",
       "<polyline clip-path=\"url(#clip782)\" style=\"stroke:#000000; stroke-linecap:butt; stroke-linejoin:round; stroke-width:2; stroke-opacity:0.1; fill:none\" points=\"\n",
       "  2087.06,1486.45 2087.06,47.2441 \n",
       "  \"/>\n",
       "<polyline clip-path=\"url(#clip780)\" style=\"stroke:#000000; stroke-linecap:butt; stroke-linejoin:round; stroke-width:4; stroke-opacity:1; fill:none\" points=\"\n",
       "  186.274,1486.45 2352.76,1486.45 \n",
       "  \"/>\n",
       "<polyline clip-path=\"url(#clip780)\" style=\"stroke:#000000; stroke-linecap:butt; stroke-linejoin:round; stroke-width:4; stroke-opacity:1; fill:none\" points=\"\n",
       "  451.975,1486.45 451.975,1467.55 \n",
       "  \"/>\n",
       "<polyline clip-path=\"url(#clip780)\" style=\"stroke:#000000; stroke-linecap:butt; stroke-linejoin:round; stroke-width:4; stroke-opacity:1; fill:none\" points=\"\n",
       "  860.745,1486.45 860.745,1467.55 \n",
       "  \"/>\n",
       "<polyline clip-path=\"url(#clip780)\" style=\"stroke:#000000; stroke-linecap:butt; stroke-linejoin:round; stroke-width:4; stroke-opacity:1; fill:none\" points=\"\n",
       "  1269.51,1486.45 1269.51,1467.55 \n",
       "  \"/>\n",
       "<polyline clip-path=\"url(#clip780)\" style=\"stroke:#000000; stroke-linecap:butt; stroke-linejoin:round; stroke-width:4; stroke-opacity:1; fill:none\" points=\"\n",
       "  1678.29,1486.45 1678.29,1467.55 \n",
       "  \"/>\n",
       "<polyline clip-path=\"url(#clip780)\" style=\"stroke:#000000; stroke-linecap:butt; stroke-linejoin:round; stroke-width:4; stroke-opacity:1; fill:none\" points=\"\n",
       "  2087.06,1486.45 2087.06,1467.55 \n",
       "  \"/>\n",
       "<path clip-path=\"url(#clip780)\" d=\"M420.875 1532.02 L450.551 1532.02 L450.551 1535.95 L420.875 1535.95 L420.875 1532.02 Z\" fill=\"#000000\" fill-rule=\"evenodd\" fill-opacity=\"1\" /><path clip-path=\"url(#clip780)\" d=\"M473.491 1518.36 L461.685 1536.81 L473.491 1536.81 L473.491 1518.36 M472.264 1514.29 L478.143 1514.29 L478.143 1536.81 L483.074 1536.81 L483.074 1540.7 L478.143 1540.7 L478.143 1548.85 L473.491 1548.85 L473.491 1540.7 L457.889 1540.7 L457.889 1536.19 L472.264 1514.29 Z\" fill=\"#000000\" fill-rule=\"evenodd\" fill-opacity=\"1\" /><path clip-path=\"url(#clip780)\" d=\"M830.687 1532.02 L860.363 1532.02 L860.363 1535.95 L830.687 1535.95 L830.687 1532.02 Z\" fill=\"#000000\" fill-rule=\"evenodd\" fill-opacity=\"1\" /><path clip-path=\"url(#clip780)\" d=\"M874.483 1544.91 L890.802 1544.91 L890.802 1548.85 L868.858 1548.85 L868.858 1544.91 Q871.52 1542.16 876.103 1537.53 Q880.71 1532.88 881.891 1531.53 Q884.136 1529.01 885.015 1527.27 Q885.918 1525.51 885.918 1523.82 Q885.918 1521.07 883.974 1519.33 Q882.053 1517.6 878.951 1517.6 Q876.752 1517.6 874.298 1518.36 Q871.867 1519.13 869.09 1520.68 L869.09 1515.95 Q871.914 1514.82 874.367 1514.24 Q876.821 1513.66 878.858 1513.66 Q884.228 1513.66 887.423 1516.35 Q890.617 1519.03 890.617 1523.52 Q890.617 1525.65 889.807 1527.57 Q889.02 1529.47 886.914 1532.07 Q886.335 1532.74 883.233 1535.95 Q880.131 1539.15 874.483 1544.91 Z\" fill=\"#000000\" fill-rule=\"evenodd\" fill-opacity=\"1\" /><path clip-path=\"url(#clip780)\" d=\"M1269.51 1517.37 Q1265.9 1517.37 1264.08 1520.93 Q1262.27 1524.47 1262.27 1531.6 Q1262.27 1538.71 1264.08 1542.27 Q1265.9 1545.82 1269.51 1545.82 Q1273.15 1545.82 1274.95 1542.27 Q1276.78 1538.71 1276.78 1531.6 Q1276.78 1524.47 1274.95 1520.93 Q1273.15 1517.37 1269.51 1517.37 M1269.51 1513.66 Q1275.33 1513.66 1278.38 1518.27 Q1281.46 1522.85 1281.46 1531.6 Q1281.46 1540.33 1278.38 1544.94 Q1275.33 1549.52 1269.51 1549.52 Q1263.7 1549.52 1260.63 1544.94 Q1257.57 1540.33 1257.57 1531.6 Q1257.57 1522.85 1260.63 1518.27 Q1263.7 1513.66 1269.51 1513.66 Z\" fill=\"#000000\" fill-rule=\"evenodd\" fill-opacity=\"1\" /><path clip-path=\"url(#clip780)\" d=\"M1672.94 1544.91 L1689.26 1544.91 L1689.26 1548.85 L1667.31 1548.85 L1667.31 1544.91 Q1669.97 1542.16 1674.56 1537.53 Q1679.16 1532.88 1680.35 1531.53 Q1682.59 1529.01 1683.47 1527.27 Q1684.37 1525.51 1684.37 1523.82 Q1684.37 1521.07 1682.43 1519.33 Q1680.51 1517.6 1677.41 1517.6 Q1675.21 1517.6 1672.75 1518.36 Q1670.32 1519.13 1667.54 1520.68 L1667.54 1515.95 Q1670.37 1514.82 1672.82 1514.24 Q1675.28 1513.66 1677.31 1513.66 Q1682.68 1513.66 1685.88 1516.35 Q1689.07 1519.03 1689.07 1523.52 Q1689.07 1525.65 1688.26 1527.57 Q1687.47 1529.47 1685.37 1532.07 Q1684.79 1532.74 1681.69 1535.95 Q1678.59 1539.15 1672.94 1544.91 Z\" fill=\"#000000\" fill-rule=\"evenodd\" fill-opacity=\"1\" /><path clip-path=\"url(#clip780)\" d=\"M2090.06 1518.36 L2078.26 1536.81 L2090.06 1536.81 L2090.06 1518.36 M2088.84 1514.29 L2094.72 1514.29 L2094.72 1536.81 L2099.65 1536.81 L2099.65 1540.7 L2094.72 1540.7 L2094.72 1548.85 L2090.06 1548.85 L2090.06 1540.7 L2074.46 1540.7 L2074.46 1536.19 L2088.84 1514.29 Z\" fill=\"#000000\" fill-rule=\"evenodd\" fill-opacity=\"1\" /><polyline clip-path=\"url(#clip782)\" style=\"stroke:#000000; stroke-linecap:butt; stroke-linejoin:round; stroke-width:2; stroke-opacity:0.1; fill:none\" points=\"\n",
       "  186.274,1454.93 2352.76,1454.93 \n",
       "  \"/>\n",
       "<polyline clip-path=\"url(#clip782)\" style=\"stroke:#000000; stroke-linecap:butt; stroke-linejoin:round; stroke-width:2; stroke-opacity:0.1; fill:none\" points=\"\n",
       "  186.274,1110.89 2352.76,1110.89 \n",
       "  \"/>\n",
       "<polyline clip-path=\"url(#clip782)\" style=\"stroke:#000000; stroke-linecap:butt; stroke-linejoin:round; stroke-width:2; stroke-opacity:0.1; fill:none\" points=\"\n",
       "  186.274,766.846 2352.76,766.846 \n",
       "  \"/>\n",
       "<polyline clip-path=\"url(#clip782)\" style=\"stroke:#000000; stroke-linecap:butt; stroke-linejoin:round; stroke-width:2; stroke-opacity:0.1; fill:none\" points=\"\n",
       "  186.274,422.806 2352.76,422.806 \n",
       "  \"/>\n",
       "<polyline clip-path=\"url(#clip782)\" style=\"stroke:#000000; stroke-linecap:butt; stroke-linejoin:round; stroke-width:2; stroke-opacity:0.1; fill:none\" points=\"\n",
       "  186.274,78.7658 2352.76,78.7658 \n",
       "  \"/>\n",
       "<polyline clip-path=\"url(#clip780)\" style=\"stroke:#000000; stroke-linecap:butt; stroke-linejoin:round; stroke-width:4; stroke-opacity:1; fill:none\" points=\"\n",
       "  186.274,1486.45 186.274,47.2441 \n",
       "  \"/>\n",
       "<polyline clip-path=\"url(#clip780)\" style=\"stroke:#000000; stroke-linecap:butt; stroke-linejoin:round; stroke-width:4; stroke-opacity:1; fill:none\" points=\"\n",
       "  186.274,1454.93 205.172,1454.93 \n",
       "  \"/>\n",
       "<polyline clip-path=\"url(#clip780)\" style=\"stroke:#000000; stroke-linecap:butt; stroke-linejoin:round; stroke-width:4; stroke-opacity:1; fill:none\" points=\"\n",
       "  186.274,1110.89 205.172,1110.89 \n",
       "  \"/>\n",
       "<polyline clip-path=\"url(#clip780)\" style=\"stroke:#000000; stroke-linecap:butt; stroke-linejoin:round; stroke-width:4; stroke-opacity:1; fill:none\" points=\"\n",
       "  186.274,766.846 205.172,766.846 \n",
       "  \"/>\n",
       "<polyline clip-path=\"url(#clip780)\" style=\"stroke:#000000; stroke-linecap:butt; stroke-linejoin:round; stroke-width:4; stroke-opacity:1; fill:none\" points=\"\n",
       "  186.274,422.806 205.172,422.806 \n",
       "  \"/>\n",
       "<polyline clip-path=\"url(#clip780)\" style=\"stroke:#000000; stroke-linecap:butt; stroke-linejoin:round; stroke-width:4; stroke-opacity:1; fill:none\" points=\"\n",
       "  186.274,78.7658 205.172,78.7658 \n",
       "  \"/>\n",
       "<path clip-path=\"url(#clip780)\" d=\"M62.9365 1440.72 Q59.3254 1440.72 57.4967 1444.29 Q55.6912 1447.83 55.6912 1454.96 Q55.6912 1462.07 57.4967 1465.63 Q59.3254 1469.17 62.9365 1469.17 Q66.5707 1469.17 68.3763 1465.63 Q70.205 1462.07 70.205 1454.96 Q70.205 1447.83 68.3763 1444.29 Q66.5707 1440.72 62.9365 1440.72 M62.9365 1437.02 Q68.7467 1437.02 71.8022 1441.63 Q74.8809 1446.21 74.8809 1454.96 Q74.8809 1463.69 71.8022 1468.29 Q68.7467 1472.88 62.9365 1472.88 Q57.1264 1472.88 54.0477 1468.29 Q50.9921 1463.69 50.9921 1454.96 Q50.9921 1446.21 54.0477 1441.63 Q57.1264 1437.02 62.9365 1437.02 Z\" fill=\"#000000\" fill-rule=\"evenodd\" fill-opacity=\"1\" /><path clip-path=\"url(#clip780)\" d=\"M83.0984 1466.33 L87.9827 1466.33 L87.9827 1472.21 L83.0984 1472.21 L83.0984 1466.33 Z\" fill=\"#000000\" fill-rule=\"evenodd\" fill-opacity=\"1\" /><path clip-path=\"url(#clip780)\" d=\"M108.168 1440.72 Q104.557 1440.72 102.728 1444.29 Q100.922 1447.83 100.922 1454.96 Q100.922 1462.07 102.728 1465.63 Q104.557 1469.17 108.168 1469.17 Q111.802 1469.17 113.608 1465.63 Q115.436 1462.07 115.436 1454.96 Q115.436 1447.83 113.608 1444.29 Q111.802 1440.72 108.168 1440.72 M108.168 1437.02 Q113.978 1437.02 117.033 1441.63 Q120.112 1446.21 120.112 1454.96 Q120.112 1463.69 117.033 1468.29 Q113.978 1472.88 108.168 1472.88 Q102.358 1472.88 99.2789 1468.29 Q96.2234 1463.69 96.2234 1454.96 Q96.2234 1446.21 99.2789 1441.63 Q102.358 1437.02 108.168 1437.02 Z\" fill=\"#000000\" fill-rule=\"evenodd\" fill-opacity=\"1\" /><path clip-path=\"url(#clip780)\" d=\"M138.33 1440.72 Q134.719 1440.72 132.89 1444.29 Q131.084 1447.83 131.084 1454.96 Q131.084 1462.07 132.89 1465.63 Q134.719 1469.17 138.33 1469.17 Q141.964 1469.17 143.769 1465.63 Q145.598 1462.07 145.598 1454.96 Q145.598 1447.83 143.769 1444.29 Q141.964 1440.72 138.33 1440.72 M138.33 1437.02 Q144.14 1437.02 147.195 1441.63 Q150.274 1446.21 150.274 1454.96 Q150.274 1463.69 147.195 1468.29 Q144.14 1472.88 138.33 1472.88 Q132.519 1472.88 129.441 1468.29 Q126.385 1463.69 126.385 1454.96 Q126.385 1446.21 129.441 1441.63 Q132.519 1437.02 138.33 1437.02 Z\" fill=\"#000000\" fill-rule=\"evenodd\" fill-opacity=\"1\" /><path clip-path=\"url(#clip780)\" d=\"M63.9319 1096.68 Q60.3208 1096.68 58.4921 1100.25 Q56.6865 1103.79 56.6865 1110.92 Q56.6865 1118.03 58.4921 1121.59 Q60.3208 1125.13 63.9319 1125.13 Q67.5661 1125.13 69.3717 1121.59 Q71.2004 1118.03 71.2004 1110.92 Q71.2004 1103.79 69.3717 1100.25 Q67.5661 1096.68 63.9319 1096.68 M63.9319 1092.98 Q69.742 1092.98 72.7976 1097.59 Q75.8763 1102.17 75.8763 1110.92 Q75.8763 1119.65 72.7976 1124.25 Q69.742 1128.84 63.9319 1128.84 Q58.1217 1128.84 55.043 1124.25 Q51.9875 1119.65 51.9875 1110.92 Q51.9875 1102.17 55.043 1097.59 Q58.1217 1092.98 63.9319 1092.98 Z\" fill=\"#000000\" fill-rule=\"evenodd\" fill-opacity=\"1\" /><path clip-path=\"url(#clip780)\" d=\"M84.0938 1122.29 L88.978 1122.29 L88.978 1128.17 L84.0938 1128.17 L84.0938 1122.29 Z\" fill=\"#000000\" fill-rule=\"evenodd\" fill-opacity=\"1\" /><path clip-path=\"url(#clip780)\" d=\"M103.191 1124.23 L119.51 1124.23 L119.51 1128.17 L97.566 1128.17 L97.566 1124.23 Q100.228 1121.48 104.811 1116.85 Q109.418 1112.19 110.598 1110.85 Q112.844 1108.33 113.723 1106.59 Q114.626 1104.83 114.626 1103.14 Q114.626 1100.39 112.682 1098.65 Q110.76 1096.92 107.658 1096.92 Q105.459 1096.92 103.006 1097.68 Q100.575 1098.44 97.7974 1099.99 L97.7974 1095.27 Q100.621 1094.14 103.075 1093.56 Q105.529 1092.98 107.566 1092.98 Q112.936 1092.98 116.131 1095.67 Q119.325 1098.35 119.325 1102.84 Q119.325 1104.97 118.515 1106.89 Q117.728 1108.79 115.621 1111.38 Q115.043 1112.06 111.941 1115.27 Q108.839 1118.47 103.191 1124.23 Z\" fill=\"#000000\" fill-rule=\"evenodd\" fill-opacity=\"1\" /><path clip-path=\"url(#clip780)\" d=\"M129.371 1093.61 L147.728 1093.61 L147.728 1097.54 L133.654 1097.54 L133.654 1106.01 Q134.672 1105.67 135.691 1105.5 Q136.709 1105.32 137.728 1105.32 Q143.515 1105.32 146.894 1108.49 Q150.274 1111.66 150.274 1117.08 Q150.274 1122.66 146.802 1125.76 Q143.33 1128.84 137.01 1128.84 Q134.834 1128.84 132.566 1128.47 Q130.32 1128.1 127.913 1127.36 L127.913 1122.66 Q129.996 1123.79 132.219 1124.35 Q134.441 1124.9 136.918 1124.9 Q140.922 1124.9 143.26 1122.8 Q145.598 1120.69 145.598 1117.08 Q145.598 1113.47 143.26 1111.36 Q140.922 1109.25 136.918 1109.25 Q135.043 1109.25 133.168 1109.67 Q131.316 1110.09 129.371 1110.97 L129.371 1093.61 Z\" fill=\"#000000\" fill-rule=\"evenodd\" fill-opacity=\"1\" /><path clip-path=\"url(#clip780)\" d=\"M62.9365 752.645 Q59.3254 752.645 57.4967 756.209 Q55.6912 759.751 55.6912 766.881 Q55.6912 773.987 57.4967 777.552 Q59.3254 781.094 62.9365 781.094 Q66.5707 781.094 68.3763 777.552 Q70.205 773.987 70.205 766.881 Q70.205 759.751 68.3763 756.209 Q66.5707 752.645 62.9365 752.645 M62.9365 748.941 Q68.7467 748.941 71.8022 753.547 Q74.8809 758.131 74.8809 766.881 Q74.8809 775.608 71.8022 780.214 Q68.7467 784.797 62.9365 784.797 Q57.1264 784.797 54.0477 780.214 Q50.9921 775.608 50.9921 766.881 Q50.9921 758.131 54.0477 753.547 Q57.1264 748.941 62.9365 748.941 Z\" fill=\"#000000\" fill-rule=\"evenodd\" fill-opacity=\"1\" /><path clip-path=\"url(#clip780)\" d=\"M83.0984 778.246 L87.9827 778.246 L87.9827 784.126 L83.0984 784.126 L83.0984 778.246 Z\" fill=\"#000000\" fill-rule=\"evenodd\" fill-opacity=\"1\" /><path clip-path=\"url(#clip780)\" d=\"M98.2141 749.566 L116.57 749.566 L116.57 753.501 L102.496 753.501 L102.496 761.973 Q103.515 761.626 104.534 761.464 Q105.552 761.279 106.571 761.279 Q112.358 761.279 115.737 764.45 Q119.117 767.621 119.117 773.038 Q119.117 778.617 115.645 781.719 Q112.172 784.797 105.853 784.797 Q103.677 784.797 101.409 784.427 Q99.1632 784.057 96.7558 783.316 L96.7558 778.617 Q98.8391 779.751 101.061 780.307 Q103.284 780.862 105.76 780.862 Q109.765 780.862 112.103 778.756 Q114.441 776.649 114.441 773.038 Q114.441 769.427 112.103 767.321 Q109.765 765.214 105.76 765.214 Q103.885 765.214 102.01 765.631 Q100.159 766.047 98.2141 766.927 L98.2141 749.566 Z\" fill=\"#000000\" fill-rule=\"evenodd\" fill-opacity=\"1\" /><path clip-path=\"url(#clip780)\" d=\"M138.33 752.645 Q134.719 752.645 132.89 756.209 Q131.084 759.751 131.084 766.881 Q131.084 773.987 132.89 777.552 Q134.719 781.094 138.33 781.094 Q141.964 781.094 143.769 777.552 Q145.598 773.987 145.598 766.881 Q145.598 759.751 143.769 756.209 Q141.964 752.645 138.33 752.645 M138.33 748.941 Q144.14 748.941 147.195 753.547 Q150.274 758.131 150.274 766.881 Q150.274 775.608 147.195 780.214 Q144.14 784.797 138.33 784.797 Q132.519 784.797 129.441 780.214 Q126.385 775.608 126.385 766.881 Q126.385 758.131 129.441 753.547 Q132.519 748.941 138.33 748.941 Z\" fill=\"#000000\" fill-rule=\"evenodd\" fill-opacity=\"1\" /><path clip-path=\"url(#clip780)\" d=\"M63.9319 408.605 Q60.3208 408.605 58.4921 412.169 Q56.6865 415.711 56.6865 422.841 Q56.6865 429.947 58.4921 433.512 Q60.3208 437.054 63.9319 437.054 Q67.5661 437.054 69.3717 433.512 Q71.2004 429.947 71.2004 422.841 Q71.2004 415.711 69.3717 412.169 Q67.5661 408.605 63.9319 408.605 M63.9319 404.901 Q69.742 404.901 72.7976 409.507 Q75.8763 414.091 75.8763 422.841 Q75.8763 431.567 72.7976 436.174 Q69.742 440.757 63.9319 440.757 Q58.1217 440.757 55.043 436.174 Q51.9875 431.567 51.9875 422.841 Q51.9875 414.091 55.043 409.507 Q58.1217 404.901 63.9319 404.901 Z\" fill=\"#000000\" fill-rule=\"evenodd\" fill-opacity=\"1\" /><path clip-path=\"url(#clip780)\" d=\"M84.0938 434.206 L88.978 434.206 L88.978 440.086 L84.0938 440.086 L84.0938 434.206 Z\" fill=\"#000000\" fill-rule=\"evenodd\" fill-opacity=\"1\" /><path clip-path=\"url(#clip780)\" d=\"M97.9826 405.526 L120.205 405.526 L120.205 407.517 L107.658 440.086 L102.774 440.086 L114.58 409.461 L97.9826 409.461 L97.9826 405.526 Z\" fill=\"#000000\" fill-rule=\"evenodd\" fill-opacity=\"1\" /><path clip-path=\"url(#clip780)\" d=\"M129.371 405.526 L147.728 405.526 L147.728 409.461 L133.654 409.461 L133.654 417.933 Q134.672 417.586 135.691 417.424 Q136.709 417.239 137.728 417.239 Q143.515 417.239 146.894 420.41 Q150.274 423.581 150.274 428.998 Q150.274 434.577 146.802 437.679 Q143.33 440.757 137.01 440.757 Q134.834 440.757 132.566 440.387 Q130.32 440.016 127.913 439.276 L127.913 434.577 Q129.996 435.711 132.219 436.266 Q134.441 436.822 136.918 436.822 Q140.922 436.822 143.26 434.716 Q145.598 432.609 145.598 428.998 Q145.598 425.387 143.26 423.28 Q140.922 421.174 136.918 421.174 Q135.043 421.174 133.168 421.591 Q131.316 422.007 129.371 422.887 L129.371 405.526 Z\" fill=\"#000000\" fill-rule=\"evenodd\" fill-opacity=\"1\" /><path clip-path=\"url(#clip780)\" d=\"M53.7467 92.1107 L61.3856 92.1107 L61.3856 65.7451 L53.0754 67.4117 L53.0754 63.1525 L61.3393 61.4858 L66.0152 61.4858 L66.0152 92.1107 L73.654 92.1107 L73.654 96.0458 L53.7467 96.0458 L53.7467 92.1107 Z\" fill=\"#000000\" fill-rule=\"evenodd\" fill-opacity=\"1\" /><path clip-path=\"url(#clip780)\" d=\"M83.0984 90.1662 L87.9827 90.1662 L87.9827 96.0458 L83.0984 96.0458 L83.0984 90.1662 Z\" fill=\"#000000\" fill-rule=\"evenodd\" fill-opacity=\"1\" /><path clip-path=\"url(#clip780)\" d=\"M108.168 64.5645 Q104.557 64.5645 102.728 68.1293 Q100.922 71.671 100.922 78.8006 Q100.922 85.907 102.728 89.4718 Q104.557 93.0135 108.168 93.0135 Q111.802 93.0135 113.608 89.4718 Q115.436 85.907 115.436 78.8006 Q115.436 71.671 113.608 68.1293 Q111.802 64.5645 108.168 64.5645 M108.168 60.8608 Q113.978 60.8608 117.033 65.4673 Q120.112 70.0506 120.112 78.8006 Q120.112 87.5274 117.033 92.1338 Q113.978 96.7171 108.168 96.7171 Q102.358 96.7171 99.2789 92.1338 Q96.2234 87.5274 96.2234 78.8006 Q96.2234 70.0506 99.2789 65.4673 Q102.358 60.8608 108.168 60.8608 Z\" fill=\"#000000\" fill-rule=\"evenodd\" fill-opacity=\"1\" /><path clip-path=\"url(#clip780)\" d=\"M138.33 64.5645 Q134.719 64.5645 132.89 68.1293 Q131.084 71.671 131.084 78.8006 Q131.084 85.907 132.89 89.4718 Q134.719 93.0135 138.33 93.0135 Q141.964 93.0135 143.769 89.4718 Q145.598 85.907 145.598 78.8006 Q145.598 71.671 143.769 68.1293 Q141.964 64.5645 138.33 64.5645 M138.33 60.8608 Q144.14 60.8608 147.195 65.4673 Q150.274 70.0506 150.274 78.8006 Q150.274 87.5274 147.195 92.1338 Q144.14 96.7171 138.33 96.7171 Q132.519 96.7171 129.441 92.1338 Q126.385 87.5274 126.385 78.8006 Q126.385 70.0506 129.441 65.4673 Q132.519 60.8608 138.33 60.8608 Z\" fill=\"#000000\" fill-rule=\"evenodd\" fill-opacity=\"1\" /><polyline clip-path=\"url(#clip782)\" style=\"stroke:#009af9; stroke-linecap:butt; stroke-linejoin:round; stroke-width:4; stroke-opacity:1; fill:none\" points=\"\n",
       "  247.59,1445.72 260.896,1445.1 383.935,1437.09 457.876,1429.46 520.392,1420.58 554.347,1414.55 588.302,1407.51 619.606,1399.97 650.909,1391.3 684.47,1380.56 \n",
       "  718.031,1368.12 756.914,1351.3 795.798,1331.54 830.353,1311.18 864.908,1287.92 895.209,1264.91 925.511,1239.31 958.548,1208.26 991.585,1173.82 1008.2,1155.2 \n",
       "  1024.82,1135.7 1041.43,1115.34 1058.05,1094.12 1076.42,1069.68 1094.79,1044.26 1113.17,1017.9 1131.54,990.665 1166.5,936.672 1201.46,880.357 1274.16,759.025 \n",
       "  1335.36,656.957 1372.72,596.722 1410.08,539.142 1444.3,489.339 1478.52,442.783 1510.13,402.911 1541.74,366.166 1573.76,332.167 1605.77,301.367 1623.72,285.47 \n",
       "  1641.66,270.519 1659.6,256.485 1677.54,243.336 1693.8,232.155 1710.06,221.644 1726.31,211.775 1742.57,202.519 1779.8,183.48 1817.03,167.163 1851.5,154.196 \n",
       "  1885.97,143.036 1919.95,133.583 1953.93,125.471 1986.93,118.71 2019.92,112.903 2087.57,103.457 2161.69,96.041 2269.35,89.0196 2291.44,87.9763 \n",
       "  \"/>\n",
       "<path clip-path=\"url(#clip780)\" d=\"\n",
       "M1987.39 198.898 L2280.54 198.898 L2280.54 95.2176 L1987.39 95.2176  Z\n",
       "  \" fill=\"#ffffff\" fill-rule=\"evenodd\" fill-opacity=\"1\"/>\n",
       "<polyline clip-path=\"url(#clip780)\" style=\"stroke:#000000; stroke-linecap:butt; stroke-linejoin:round; stroke-width:4; stroke-opacity:1; fill:none\" points=\"\n",
       "  1987.39,198.898 2280.54,198.898 2280.54,95.2176 1987.39,95.2176 1987.39,198.898 \n",
       "  \"/>\n",
       "<polyline clip-path=\"url(#clip780)\" style=\"stroke:#009af9; stroke-linecap:butt; stroke-linejoin:round; stroke-width:4; stroke-opacity:1; fill:none\" points=\"\n",
       "  2011.46,147.058 2155.89,147.058 \n",
       "  \"/>\n",
       "<path clip-path=\"url(#clip780)\" d=\"M2193.81 166.745 Q2192 171.375 2190.29 172.787 Q2188.58 174.199 2185.71 174.199 L2182.3 174.199 L2182.3 170.634 L2184.8 170.634 Q2186.56 170.634 2187.53 169.8 Q2188.51 168.967 2189.69 165.865 L2190.45 163.921 L2179.97 138.412 L2184.48 138.412 L2192.58 158.689 L2200.68 138.412 L2205.2 138.412 L2193.81 166.745 Z\" fill=\"#000000\" fill-rule=\"evenodd\" fill-opacity=\"1\" /><path clip-path=\"url(#clip780)\" d=\"M2212.49 160.402 L2220.13 160.402 L2220.13 134.037 L2211.82 135.703 L2211.82 131.444 L2220.08 129.778 L2224.76 129.778 L2224.76 160.402 L2232.4 160.402 L2232.4 164.338 L2212.49 164.338 L2212.49 160.402 Z\" fill=\"#000000\" fill-rule=\"evenodd\" fill-opacity=\"1\" /></svg>\n"
      ]
     },
     "execution_count": 28,
     "metadata": {},
     "output_type": "execute_result"
    }
   ],
   "source": [
    "plot(σ, -5, 5)"
   ]
  },
  {
   "cell_type": "code",
   "execution_count": 69,
   "id": "79dbd127",
   "metadata": {},
   "outputs": [
    {
     "data": {
      "text/plain": [
       "Dense(2 => 2, σ)    \u001b[90m# 6 parameters\u001b[39m"
      ]
     },
     "execution_count": 69,
     "metadata": {},
     "output_type": "execute_result"
    }
   ],
   "source": [
    " model = Dense(2, 2, σ)"
   ]
  },
  {
   "cell_type": "code",
   "execution_count": 70,
   "id": "a07739d8",
   "metadata": {},
   "outputs": [
    {
     "data": {
      "text/plain": [
       "Dense(2 => 2, σ)    \u001b[90m# 6 parameters\u001b[39m"
      ]
     },
     "execution_count": 70,
     "metadata": {},
     "output_type": "execute_result"
    }
   ],
   "source": [
    "model"
   ]
  },
  {
   "cell_type": "code",
   "execution_count": 71,
   "id": "24337656",
   "metadata": {},
   "outputs": [
    {
     "data": {
      "text/plain": [
       "Dense{typeof(σ), Matrix{Float32}, Vector{Float32}}"
      ]
     },
     "execution_count": 71,
     "metadata": {},
     "output_type": "execute_result"
    }
   ],
   "source": [
    "typeof(model)"
   ]
  },
  {
   "cell_type": "code",
   "execution_count": 83,
   "id": "e25f7c50",
   "metadata": {},
   "outputs": [
    {
     "data": {
      "text/plain": [
       "2-element Vector{Float64}:\n",
       " 0.18505533032649124\n",
       " 0.1012435798401129"
      ]
     },
     "execution_count": 83,
     "metadata": {},
     "output_type": "execute_result"
    }
   ],
   "source": [
    "x = rand(2)"
   ]
  },
  {
   "cell_type": "code",
   "execution_count": 84,
   "id": "9d1e8046",
   "metadata": {},
   "outputs": [
    {
     "data": {
      "text/plain": [
       "2-element Vector{Float64}:\n",
       " 0.4322717444049653\n",
       " 0.5080802611387616"
      ]
     },
     "execution_count": 84,
     "metadata": {},
     "output_type": "execute_result"
    }
   ],
   "source": [
    "model(x) "
   ]
  },
  {
   "cell_type": "code",
   "execution_count": 87,
   "id": "b404d36c",
   "metadata": {},
   "outputs": [
    {
     "data": {
      "text/plain": [
       "2-element Vector{Float64}:\n",
       " 0.4322717444049654\n",
       " 0.5080802611387616"
      ]
     },
     "execution_count": 87,
     "metadata": {},
     "output_type": "execute_result"
    }
   ],
   "source": [
    "σ.(model.weight*x+model.bias)"
   ]
  },
  {
   "cell_type": "code",
   "execution_count": 89,
   "id": "cabd0499",
   "metadata": {},
   "outputs": [
    {
     "data": {
      "text/html": [
       "# 1 method for generic function <b>mse</b>:<ul><li> mse(ŷ, y; <i>agg</i>) in Flux.Losses at <a href=\"file:///home/sathvik/.julia/packages/Flux/18YZE/src/losses/functions.jl\" target=\"_blank\">/home/sathvik/.julia/packages/Flux/18YZE/src/losses/functions.jl:45</a></li> </ul>"
      ],
      "text/plain": [
       "# 1 method for generic function \"mse\":\n",
       "[1] mse(ŷ, y; agg) in Flux.Losses at /home/sathvik/.julia/packages/Flux/18YZE/src/losses/functions.jl:45"
      ]
     },
     "execution_count": 89,
     "metadata": {},
     "output_type": "execute_result"
    }
   ],
   "source": [
    "methods(Flux.mse)"
   ]
  },
  {
   "cell_type": "code",
   "execution_count": 104,
   "id": "5a414dab",
   "metadata": {},
   "outputs": [],
   "source": [
    "x1 = rand(1:10, 400);\n",
    "x2 = rand(5:15, 400);\n",
    "x = [x1; x2]\n",
    "y = [fill(0, size(x1)); fill(1, size(x2))];"
   ]
  },
  {
   "cell_type": "code",
   "execution_count": 131,
   "id": "455d173c",
   "metadata": {},
   "outputs": [
    {
     "data": {
      "text/plain": [
       "Dense(1 => 1, σ)    \u001b[90m# 2 parameters\u001b[39m"
      ]
     },
     "execution_count": 131,
     "metadata": {},
     "output_type": "execute_result"
    }
   ],
   "source": [
    "model = Dense(1, 1, σ)"
   ]
  },
  {
   "cell_type": "code",
   "execution_count": 177,
   "id": "68824fcf",
   "metadata": {},
   "outputs": [
    {
     "data": {
      "image/svg+xml": [
       "<?xml version=\"1.0\" encoding=\"utf-8\"?>\n",
       "<svg xmlns=\"http://www.w3.org/2000/svg\" xmlns:xlink=\"http://www.w3.org/1999/xlink\" width=\"600\" height=\"400\" viewBox=\"0 0 2400 1600\">\n",
       "<defs>\n",
       "  <clipPath id=\"clip060\">\n",
       "    <rect x=\"0\" y=\"0\" width=\"2400\" height=\"1600\"/>\n",
       "  </clipPath>\n",
       "</defs>\n",
       "<path clip-path=\"url(#clip060)\" d=\"\n",
       "M0 1600 L2400 1600 L2400 0 L0 0  Z\n",
       "  \" fill=\"#ffffff\" fill-rule=\"evenodd\" fill-opacity=\"1\"/>\n",
       "<defs>\n",
       "  <clipPath id=\"clip061\">\n",
       "    <rect x=\"480\" y=\"0\" width=\"1681\" height=\"1600\"/>\n",
       "  </clipPath>\n",
       "</defs>\n",
       "<path clip-path=\"url(#clip060)\" d=\"\n",
       "M186.76 1486.45 L2352.76 1486.45 L2352.76 47.2441 L186.76 47.2441  Z\n",
       "  \" fill=\"#ffffff\" fill-rule=\"evenodd\" fill-opacity=\"1\"/>\n",
       "<defs>\n",
       "  <clipPath id=\"clip062\">\n",
       "    <rect x=\"186\" y=\"47\" width=\"2167\" height=\"1440\"/>\n",
       "  </clipPath>\n",
       "</defs>\n",
       "<polyline clip-path=\"url(#clip062)\" style=\"stroke:#000000; stroke-linecap:butt; stroke-linejoin:round; stroke-width:2; stroke-opacity:0.1; fill:none\" points=\"\n",
       "  206.36,1486.45 206.36,47.2441 \n",
       "  \"/>\n",
       "<polyline clip-path=\"url(#clip062)\" style=\"stroke:#000000; stroke-linecap:butt; stroke-linejoin:round; stroke-width:2; stroke-opacity:0.1; fill:none\" points=\"\n",
       "  623.379,1486.45 623.379,47.2441 \n",
       "  \"/>\n",
       "<polyline clip-path=\"url(#clip062)\" style=\"stroke:#000000; stroke-linecap:butt; stroke-linejoin:round; stroke-width:2; stroke-opacity:0.1; fill:none\" points=\"\n",
       "  1040.4,1486.45 1040.4,47.2441 \n",
       "  \"/>\n",
       "<polyline clip-path=\"url(#clip062)\" style=\"stroke:#000000; stroke-linecap:butt; stroke-linejoin:round; stroke-width:2; stroke-opacity:0.1; fill:none\" points=\"\n",
       "  1457.42,1486.45 1457.42,47.2441 \n",
       "  \"/>\n",
       "<polyline clip-path=\"url(#clip062)\" style=\"stroke:#000000; stroke-linecap:butt; stroke-linejoin:round; stroke-width:2; stroke-opacity:0.1; fill:none\" points=\"\n",
       "  1874.44,1486.45 1874.44,47.2441 \n",
       "  \"/>\n",
       "<polyline clip-path=\"url(#clip062)\" style=\"stroke:#000000; stroke-linecap:butt; stroke-linejoin:round; stroke-width:2; stroke-opacity:0.1; fill:none\" points=\"\n",
       "  2291.45,1486.45 2291.45,47.2441 \n",
       "  \"/>\n",
       "<polyline clip-path=\"url(#clip060)\" style=\"stroke:#000000; stroke-linecap:butt; stroke-linejoin:round; stroke-width:4; stroke-opacity:1; fill:none\" points=\"\n",
       "  186.76,1486.45 2352.76,1486.45 \n",
       "  \"/>\n",
       "<polyline clip-path=\"url(#clip060)\" style=\"stroke:#000000; stroke-linecap:butt; stroke-linejoin:round; stroke-width:4; stroke-opacity:1; fill:none\" points=\"\n",
       "  206.36,1486.45 206.36,1467.55 \n",
       "  \"/>\n",
       "<polyline clip-path=\"url(#clip060)\" style=\"stroke:#000000; stroke-linecap:butt; stroke-linejoin:round; stroke-width:4; stroke-opacity:1; fill:none\" points=\"\n",
       "  623.379,1486.45 623.379,1467.55 \n",
       "  \"/>\n",
       "<polyline clip-path=\"url(#clip060)\" style=\"stroke:#000000; stroke-linecap:butt; stroke-linejoin:round; stroke-width:4; stroke-opacity:1; fill:none\" points=\"\n",
       "  1040.4,1486.45 1040.4,1467.55 \n",
       "  \"/>\n",
       "<polyline clip-path=\"url(#clip060)\" style=\"stroke:#000000; stroke-linecap:butt; stroke-linejoin:round; stroke-width:4; stroke-opacity:1; fill:none\" points=\"\n",
       "  1457.42,1486.45 1457.42,1467.55 \n",
       "  \"/>\n",
       "<polyline clip-path=\"url(#clip060)\" style=\"stroke:#000000; stroke-linecap:butt; stroke-linejoin:round; stroke-width:4; stroke-opacity:1; fill:none\" points=\"\n",
       "  1874.44,1486.45 1874.44,1467.55 \n",
       "  \"/>\n",
       "<polyline clip-path=\"url(#clip060)\" style=\"stroke:#000000; stroke-linecap:butt; stroke-linejoin:round; stroke-width:4; stroke-opacity:1; fill:none\" points=\"\n",
       "  2291.45,1486.45 2291.45,1467.55 \n",
       "  \"/>\n",
       "<path clip-path=\"url(#clip060)\" d=\"M206.36 1517.37 Q202.749 1517.37 200.92 1520.93 Q199.115 1524.47 199.115 1531.6 Q199.115 1538.71 200.92 1542.27 Q202.749 1545.82 206.36 1545.82 Q209.994 1545.82 211.8 1542.27 Q213.628 1538.71 213.628 1531.6 Q213.628 1524.47 211.8 1520.93 Q209.994 1517.37 206.36 1517.37 M206.36 1513.66 Q212.17 1513.66 215.226 1518.27 Q218.304 1522.85 218.304 1531.6 Q218.304 1540.33 215.226 1544.94 Q212.17 1549.52 206.36 1549.52 Q200.55 1549.52 197.471 1544.94 Q194.416 1540.33 194.416 1531.6 Q194.416 1522.85 197.471 1518.27 Q200.55 1513.66 206.36 1513.66 Z\" fill=\"#000000\" fill-rule=\"evenodd\" fill-opacity=\"1\" /><path clip-path=\"url(#clip060)\" d=\"M598.066 1544.91 L605.705 1544.91 L605.705 1518.55 L597.395 1520.21 L597.395 1515.95 L605.659 1514.29 L610.335 1514.29 L610.335 1544.91 L617.974 1544.91 L617.974 1548.85 L598.066 1548.85 L598.066 1544.91 Z\" fill=\"#000000\" fill-rule=\"evenodd\" fill-opacity=\"1\" /><path clip-path=\"url(#clip060)\" d=\"M637.418 1517.37 Q633.807 1517.37 631.978 1520.93 Q630.173 1524.47 630.173 1531.6 Q630.173 1538.71 631.978 1542.27 Q633.807 1545.82 637.418 1545.82 Q641.052 1545.82 642.858 1542.27 Q644.687 1538.71 644.687 1531.6 Q644.687 1524.47 642.858 1520.93 Q641.052 1517.37 637.418 1517.37 M637.418 1513.66 Q643.228 1513.66 646.284 1518.27 Q649.362 1522.85 649.362 1531.6 Q649.362 1540.33 646.284 1544.94 Q643.228 1549.52 637.418 1549.52 Q631.608 1549.52 628.529 1544.94 Q625.474 1540.33 625.474 1531.6 Q625.474 1522.85 628.529 1518.27 Q631.608 1513.66 637.418 1513.66 Z\" fill=\"#000000\" fill-rule=\"evenodd\" fill-opacity=\"1\" /><path clip-path=\"url(#clip060)\" d=\"M1019.17 1544.91 L1035.49 1544.91 L1035.49 1548.85 L1013.55 1548.85 L1013.55 1544.91 Q1016.21 1542.16 1020.79 1537.53 Q1025.4 1532.88 1026.58 1531.53 Q1028.82 1529.01 1029.7 1527.27 Q1030.61 1525.51 1030.61 1523.82 Q1030.61 1521.07 1028.66 1519.33 Q1026.74 1517.6 1023.64 1517.6 Q1021.44 1517.6 1018.99 1518.36 Q1016.56 1519.13 1013.78 1520.68 L1013.78 1515.95 Q1016.6 1514.82 1019.06 1514.24 Q1021.51 1513.66 1023.55 1513.66 Q1028.92 1513.66 1032.11 1516.35 Q1035.31 1519.03 1035.31 1523.52 Q1035.31 1525.65 1034.49 1527.57 Q1033.71 1529.47 1031.6 1532.07 Q1031.02 1532.74 1027.92 1535.95 Q1024.82 1539.15 1019.17 1544.91 Z\" fill=\"#000000\" fill-rule=\"evenodd\" fill-opacity=\"1\" /><path clip-path=\"url(#clip060)\" d=\"M1055.3 1517.37 Q1051.69 1517.37 1049.87 1520.93 Q1048.06 1524.47 1048.06 1531.6 Q1048.06 1538.71 1049.87 1542.27 Q1051.69 1545.82 1055.3 1545.82 Q1058.94 1545.82 1060.74 1542.27 Q1062.57 1538.71 1062.57 1531.6 Q1062.57 1524.47 1060.74 1520.93 Q1058.94 1517.37 1055.3 1517.37 M1055.3 1513.66 Q1061.12 1513.66 1064.17 1518.27 Q1067.25 1522.85 1067.25 1531.6 Q1067.25 1540.33 1064.17 1544.94 Q1061.12 1549.52 1055.3 1549.52 Q1049.49 1549.52 1046.42 1544.94 Q1043.36 1540.33 1043.36 1531.6 Q1043.36 1522.85 1046.42 1518.27 Q1049.49 1513.66 1055.3 1513.66 Z\" fill=\"#000000\" fill-rule=\"evenodd\" fill-opacity=\"1\" /><path clip-path=\"url(#clip060)\" d=\"M1446.26 1530.21 Q1449.62 1530.93 1451.49 1533.2 Q1453.39 1535.47 1453.39 1538.8 Q1453.39 1543.92 1449.87 1546.72 Q1446.35 1549.52 1439.87 1549.52 Q1437.69 1549.52 1435.38 1549.08 Q1433.09 1548.66 1430.63 1547.81 L1430.63 1543.29 Q1432.58 1544.43 1434.89 1545.01 Q1437.21 1545.58 1439.73 1545.58 Q1444.13 1545.58 1446.42 1543.85 Q1448.74 1542.11 1448.74 1538.8 Q1448.74 1535.75 1446.58 1534.03 Q1444.45 1532.3 1440.63 1532.3 L1436.61 1532.3 L1436.61 1528.45 L1440.82 1528.45 Q1444.27 1528.45 1446.1 1527.09 Q1447.93 1525.7 1447.93 1523.11 Q1447.93 1520.45 1446.03 1519.03 Q1444.15 1517.6 1440.63 1517.6 Q1438.71 1517.6 1436.51 1518.01 Q1434.31 1518.43 1431.68 1519.31 L1431.68 1515.14 Q1434.34 1514.4 1436.65 1514.03 Q1438.99 1513.66 1441.05 1513.66 Q1446.37 1513.66 1449.48 1516.09 Q1452.58 1518.5 1452.58 1522.62 Q1452.58 1525.49 1450.94 1527.48 Q1449.29 1529.45 1446.26 1530.21 Z\" fill=\"#000000\" fill-rule=\"evenodd\" fill-opacity=\"1\" /><path clip-path=\"url(#clip060)\" d=\"M1472.25 1517.37 Q1468.64 1517.37 1466.81 1520.93 Q1465.01 1524.47 1465.01 1531.6 Q1465.01 1538.71 1466.81 1542.27 Q1468.64 1545.82 1472.25 1545.82 Q1475.89 1545.82 1477.69 1542.27 Q1479.52 1538.71 1479.52 1531.6 Q1479.52 1524.47 1477.69 1520.93 Q1475.89 1517.37 1472.25 1517.37 M1472.25 1513.66 Q1478.06 1513.66 1481.12 1518.27 Q1484.2 1522.85 1484.2 1531.6 Q1484.2 1540.33 1481.12 1544.94 Q1478.06 1549.52 1472.25 1549.52 Q1466.44 1549.52 1463.37 1544.94 Q1460.31 1540.33 1460.31 1531.6 Q1460.31 1522.85 1463.37 1518.27 Q1466.44 1513.66 1472.25 1513.66 Z\" fill=\"#000000\" fill-rule=\"evenodd\" fill-opacity=\"1\" /><path clip-path=\"url(#clip060)\" d=\"M1862.61 1518.36 L1850.8 1536.81 L1862.61 1536.81 L1862.61 1518.36 M1861.38 1514.29 L1867.26 1514.29 L1867.26 1536.81 L1872.19 1536.81 L1872.19 1540.7 L1867.26 1540.7 L1867.26 1548.85 L1862.61 1548.85 L1862.61 1540.7 L1847 1540.7 L1847 1536.19 L1861.38 1514.29 Z\" fill=\"#000000\" fill-rule=\"evenodd\" fill-opacity=\"1\" /><path clip-path=\"url(#clip060)\" d=\"M1889.92 1517.37 Q1886.31 1517.37 1884.48 1520.93 Q1882.68 1524.47 1882.68 1531.6 Q1882.68 1538.71 1884.48 1542.27 Q1886.31 1545.82 1889.92 1545.82 Q1893.56 1545.82 1895.36 1542.27 Q1897.19 1538.71 1897.19 1531.6 Q1897.19 1524.47 1895.36 1520.93 Q1893.56 1517.37 1889.92 1517.37 M1889.92 1513.66 Q1895.73 1513.66 1898.79 1518.27 Q1901.87 1522.85 1901.87 1531.6 Q1901.87 1540.33 1898.79 1544.94 Q1895.73 1549.52 1889.92 1549.52 Q1884.11 1549.52 1881.03 1544.94 Q1877.98 1540.33 1877.98 1531.6 Q1877.98 1522.85 1881.03 1518.27 Q1884.11 1513.66 1889.92 1513.66 Z\" fill=\"#000000\" fill-rule=\"evenodd\" fill-opacity=\"1\" /><path clip-path=\"url(#clip060)\" d=\"M2266.15 1514.29 L2284.51 1514.29 L2284.51 1518.22 L2270.44 1518.22 L2270.44 1526.7 Q2271.45 1526.35 2272.47 1526.19 Q2273.49 1526 2274.51 1526 Q2280.3 1526 2283.68 1529.17 Q2287.06 1532.34 2287.06 1537.76 Q2287.06 1543.34 2283.58 1546.44 Q2280.11 1549.52 2273.79 1549.52 Q2271.62 1549.52 2269.35 1549.15 Q2267.1 1548.78 2264.7 1548.04 L2264.7 1543.34 Q2266.78 1544.47 2269 1545.03 Q2271.22 1545.58 2273.7 1545.58 Q2277.7 1545.58 2280.04 1543.48 Q2282.38 1541.37 2282.38 1537.76 Q2282.38 1534.15 2280.04 1532.04 Q2277.7 1529.94 2273.7 1529.94 Q2271.82 1529.94 2269.95 1530.35 Q2268.1 1530.77 2266.15 1531.65 L2266.15 1514.29 Z\" fill=\"#000000\" fill-rule=\"evenodd\" fill-opacity=\"1\" /><path clip-path=\"url(#clip060)\" d=\"M2306.27 1517.37 Q2302.66 1517.37 2300.83 1520.93 Q2299.02 1524.47 2299.02 1531.6 Q2299.02 1538.71 2300.83 1542.27 Q2302.66 1545.82 2306.27 1545.82 Q2309.9 1545.82 2311.71 1542.27 Q2313.54 1538.71 2313.54 1531.6 Q2313.54 1524.47 2311.71 1520.93 Q2309.9 1517.37 2306.27 1517.37 M2306.27 1513.66 Q2312.08 1513.66 2315.13 1518.27 Q2318.21 1522.85 2318.21 1531.6 Q2318.21 1540.33 2315.13 1544.94 Q2312.08 1549.52 2306.27 1549.52 Q2300.46 1549.52 2297.38 1544.94 Q2294.32 1540.33 2294.32 1531.6 Q2294.32 1522.85 2297.38 1518.27 Q2300.46 1513.66 2306.27 1513.66 Z\" fill=\"#000000\" fill-rule=\"evenodd\" fill-opacity=\"1\" /><polyline clip-path=\"url(#clip062)\" style=\"stroke:#000000; stroke-linecap:butt; stroke-linejoin:round; stroke-width:2; stroke-opacity:0.1; fill:none\" points=\"\n",
       "  186.76,1383.96 2352.76,1383.96 \n",
       "  \"/>\n",
       "<polyline clip-path=\"url(#clip062)\" style=\"stroke:#000000; stroke-linecap:butt; stroke-linejoin:round; stroke-width:2; stroke-opacity:0.1; fill:none\" points=\"\n",
       "  186.76,1053.19 2352.76,1053.19 \n",
       "  \"/>\n",
       "<polyline clip-path=\"url(#clip062)\" style=\"stroke:#000000; stroke-linecap:butt; stroke-linejoin:round; stroke-width:2; stroke-opacity:0.1; fill:none\" points=\"\n",
       "  186.76,722.407 2352.76,722.407 \n",
       "  \"/>\n",
       "<polyline clip-path=\"url(#clip062)\" style=\"stroke:#000000; stroke-linecap:butt; stroke-linejoin:round; stroke-width:2; stroke-opacity:0.1; fill:none\" points=\"\n",
       "  186.76,391.629 2352.76,391.629 \n",
       "  \"/>\n",
       "<polyline clip-path=\"url(#clip062)\" style=\"stroke:#000000; stroke-linecap:butt; stroke-linejoin:round; stroke-width:2; stroke-opacity:0.1; fill:none\" points=\"\n",
       "  186.76,60.8505 2352.76,60.8505 \n",
       "  \"/>\n",
       "<polyline clip-path=\"url(#clip060)\" style=\"stroke:#000000; stroke-linecap:butt; stroke-linejoin:round; stroke-width:4; stroke-opacity:1; fill:none\" points=\"\n",
       "  186.76,1486.45 186.76,47.2441 \n",
       "  \"/>\n",
       "<polyline clip-path=\"url(#clip060)\" style=\"stroke:#000000; stroke-linecap:butt; stroke-linejoin:round; stroke-width:4; stroke-opacity:1; fill:none\" points=\"\n",
       "  186.76,1383.96 205.658,1383.96 \n",
       "  \"/>\n",
       "<polyline clip-path=\"url(#clip060)\" style=\"stroke:#000000; stroke-linecap:butt; stroke-linejoin:round; stroke-width:4; stroke-opacity:1; fill:none\" points=\"\n",
       "  186.76,1053.19 205.658,1053.19 \n",
       "  \"/>\n",
       "<polyline clip-path=\"url(#clip060)\" style=\"stroke:#000000; stroke-linecap:butt; stroke-linejoin:round; stroke-width:4; stroke-opacity:1; fill:none\" points=\"\n",
       "  186.76,722.407 205.658,722.407 \n",
       "  \"/>\n",
       "<polyline clip-path=\"url(#clip060)\" style=\"stroke:#000000; stroke-linecap:butt; stroke-linejoin:round; stroke-width:4; stroke-opacity:1; fill:none\" points=\"\n",
       "  186.76,391.629 205.658,391.629 \n",
       "  \"/>\n",
       "<polyline clip-path=\"url(#clip060)\" style=\"stroke:#000000; stroke-linecap:butt; stroke-linejoin:round; stroke-width:4; stroke-opacity:1; fill:none\" points=\"\n",
       "  186.76,60.8505 205.658,60.8505 \n",
       "  \"/>\n",
       "<path clip-path=\"url(#clip060)\" d=\"M63.2606 1369.76 Q59.6495 1369.76 57.8208 1373.33 Q56.0152 1376.87 56.0152 1384 Q56.0152 1391.1 57.8208 1394.67 Q59.6495 1398.21 63.2606 1398.21 Q66.8948 1398.21 68.7004 1394.67 Q70.5291 1391.1 70.5291 1384 Q70.5291 1376.87 68.7004 1373.33 Q66.8948 1369.76 63.2606 1369.76 M63.2606 1366.06 Q69.0707 1366.06 72.1263 1370.67 Q75.205 1375.25 75.205 1384 Q75.205 1392.73 72.1263 1397.33 Q69.0707 1401.91 63.2606 1401.91 Q57.4504 1401.91 54.3717 1397.33 Q51.3162 1392.73 51.3162 1384 Q51.3162 1375.25 54.3717 1370.67 Q57.4504 1366.06 63.2606 1366.06 Z\" fill=\"#000000\" fill-rule=\"evenodd\" fill-opacity=\"1\" /><path clip-path=\"url(#clip060)\" d=\"M83.4225 1395.36 L88.3067 1395.36 L88.3067 1401.24 L83.4225 1401.24 L83.4225 1395.36 Z\" fill=\"#000000\" fill-rule=\"evenodd\" fill-opacity=\"1\" /><path clip-path=\"url(#clip060)\" d=\"M111.339 1370.76 L99.5335 1389.21 L111.339 1389.21 L111.339 1370.76 M110.112 1366.68 L115.992 1366.68 L115.992 1389.21 L120.922 1389.21 L120.922 1393.1 L115.992 1393.1 L115.992 1401.24 L111.339 1401.24 L111.339 1393.1 L95.7373 1393.1 L95.7373 1388.58 L110.112 1366.68 Z\" fill=\"#000000\" fill-rule=\"evenodd\" fill-opacity=\"1\" /><path clip-path=\"url(#clip060)\" d=\"M139.232 1382.1 Q136.084 1382.1 134.232 1384.25 Q132.404 1386.41 132.404 1390.16 Q132.404 1393.88 134.232 1396.06 Q136.084 1398.21 139.232 1398.21 Q142.381 1398.21 144.209 1396.06 Q146.061 1393.88 146.061 1390.16 Q146.061 1386.41 144.209 1384.25 Q142.381 1382.1 139.232 1382.1 M148.515 1367.45 L148.515 1371.71 Q146.756 1370.87 144.95 1370.43 Q143.168 1369.99 141.408 1369.99 Q136.779 1369.99 134.325 1373.12 Q131.894 1376.24 131.547 1382.56 Q132.913 1380.55 134.973 1379.48 Q137.033 1378.4 139.51 1378.4 Q144.718 1378.4 147.728 1381.57 Q150.76 1384.72 150.76 1390.16 Q150.76 1395.48 147.612 1398.7 Q144.464 1401.91 139.232 1401.91 Q133.237 1401.91 130.066 1397.33 Q126.894 1392.73 126.894 1384 Q126.894 1375.8 130.783 1370.94 Q134.672 1366.06 141.223 1366.06 Q142.982 1366.06 144.765 1366.41 Q146.57 1366.75 148.515 1367.45 Z\" fill=\"#000000\" fill-rule=\"evenodd\" fill-opacity=\"1\" /><path clip-path=\"url(#clip060)\" d=\"M63.5152 1038.98 Q59.9041 1038.98 58.0754 1042.55 Q56.2699 1046.09 56.2699 1053.22 Q56.2699 1060.33 58.0754 1063.89 Q59.9041 1067.43 63.5152 1067.43 Q67.1494 1067.43 68.955 1063.89 Q70.7837 1060.33 70.7837 1053.22 Q70.7837 1046.09 68.955 1042.55 Q67.1494 1038.98 63.5152 1038.98 M63.5152 1035.28 Q69.3254 1035.28 72.3809 1039.89 Q75.4596 1044.47 75.4596 1053.22 Q75.4596 1061.95 72.3809 1066.55 Q69.3254 1071.14 63.5152 1071.14 Q57.7051 1071.14 54.6264 1066.55 Q51.5708 1061.95 51.5708 1053.22 Q51.5708 1044.47 54.6264 1039.89 Q57.7051 1035.28 63.5152 1035.28 Z\" fill=\"#000000\" fill-rule=\"evenodd\" fill-opacity=\"1\" /><path clip-path=\"url(#clip060)\" d=\"M83.6771 1064.59 L88.5614 1064.59 L88.5614 1070.47 L83.6771 1070.47 L83.6771 1064.59 Z\" fill=\"#000000\" fill-rule=\"evenodd\" fill-opacity=\"1\" /><path clip-path=\"url(#clip060)\" d=\"M111.594 1039.98 L99.7882 1058.43 L111.594 1058.43 L111.594 1039.98 M110.367 1035.91 L116.246 1035.91 L116.246 1058.43 L121.177 1058.43 L121.177 1062.32 L116.246 1062.32 L116.246 1070.47 L111.594 1070.47 L111.594 1062.32 L95.9919 1062.32 L95.9919 1057.8 L110.367 1035.91 Z\" fill=\"#000000\" fill-rule=\"evenodd\" fill-opacity=\"1\" /><path clip-path=\"url(#clip060)\" d=\"M138.908 1054.05 Q135.575 1054.05 133.654 1055.84 Q131.756 1057.62 131.756 1060.74 Q131.756 1063.87 133.654 1065.65 Q135.575 1067.43 138.908 1067.43 Q142.242 1067.43 144.163 1065.65 Q146.084 1063.84 146.084 1060.74 Q146.084 1057.62 144.163 1055.84 Q142.265 1054.05 138.908 1054.05 M134.232 1052.06 Q131.223 1051.32 129.533 1049.26 Q127.867 1047.2 127.867 1044.24 Q127.867 1040.1 130.807 1037.69 Q133.769 1035.28 138.908 1035.28 Q144.07 1035.28 147.01 1037.69 Q149.95 1040.1 149.95 1044.24 Q149.95 1047.2 148.26 1049.26 Q146.593 1051.32 143.607 1052.06 Q146.987 1052.85 148.862 1055.14 Q150.76 1057.43 150.76 1060.74 Q150.76 1065.77 147.681 1068.45 Q144.626 1071.14 138.908 1071.14 Q133.191 1071.14 130.112 1068.45 Q127.057 1065.77 127.057 1060.74 Q127.057 1057.43 128.955 1055.14 Q130.853 1052.85 134.232 1052.06 M132.519 1044.68 Q132.519 1047.36 134.186 1048.87 Q135.876 1050.37 138.908 1050.37 Q141.918 1050.37 143.607 1048.87 Q145.32 1047.36 145.32 1044.68 Q145.32 1041.99 143.607 1040.49 Q141.918 1038.98 138.908 1038.98 Q135.876 1038.98 134.186 1040.49 Q132.519 1041.99 132.519 1044.68 Z\" fill=\"#000000\" fill-rule=\"evenodd\" fill-opacity=\"1\" /><path clip-path=\"url(#clip060)\" d=\"M63.4226 708.206 Q59.8115 708.206 57.9828 711.771 Q56.1773 715.312 56.1773 722.442 Q56.1773 729.548 57.9828 733.113 Q59.8115 736.655 63.4226 736.655 Q67.0569 736.655 68.8624 733.113 Q70.6911 729.548 70.6911 722.442 Q70.6911 715.312 68.8624 711.771 Q67.0569 708.206 63.4226 708.206 M63.4226 704.502 Q69.2328 704.502 72.2883 709.108 Q75.367 713.692 75.367 722.442 Q75.367 731.169 72.2883 735.775 Q69.2328 740.358 63.4226 740.358 Q57.6125 740.358 54.5338 735.775 Q51.4782 731.169 51.4782 722.442 Q51.4782 713.692 54.5338 709.108 Q57.6125 704.502 63.4226 704.502 Z\" fill=\"#000000\" fill-rule=\"evenodd\" fill-opacity=\"1\" /><path clip-path=\"url(#clip060)\" d=\"M83.5845 733.807 L88.4688 733.807 L88.4688 739.687 L83.5845 739.687 L83.5845 733.807 Z\" fill=\"#000000\" fill-rule=\"evenodd\" fill-opacity=\"1\" /><path clip-path=\"url(#clip060)\" d=\"M98.7002 705.127 L117.057 705.127 L117.057 709.062 L102.983 709.062 L102.983 717.534 Q104.001 717.187 105.02 717.025 Q106.038 716.84 107.057 716.84 Q112.844 716.84 116.223 720.011 Q119.603 723.182 119.603 728.599 Q119.603 734.178 116.131 737.28 Q112.658 740.358 106.339 740.358 Q104.163 740.358 101.895 739.988 Q99.6493 739.618 97.2419 738.877 L97.2419 734.178 Q99.3252 735.312 101.547 735.868 Q103.77 736.423 106.246 736.423 Q110.251 736.423 112.589 734.317 Q114.927 732.21 114.927 728.599 Q114.927 724.988 112.589 722.882 Q110.251 720.775 106.246 720.775 Q104.371 720.775 102.496 721.192 Q100.645 721.608 98.7002 722.488 L98.7002 705.127 Z\" fill=\"#000000\" fill-rule=\"evenodd\" fill-opacity=\"1\" /><path clip-path=\"url(#clip060)\" d=\"M138.816 708.206 Q135.205 708.206 133.376 711.771 Q131.57 715.312 131.57 722.442 Q131.57 729.548 133.376 733.113 Q135.205 736.655 138.816 736.655 Q142.45 736.655 144.256 733.113 Q146.084 729.548 146.084 722.442 Q146.084 715.312 144.256 711.771 Q142.45 708.206 138.816 708.206 M138.816 704.502 Q144.626 704.502 147.681 709.108 Q150.76 713.692 150.76 722.442 Q150.76 731.169 147.681 735.775 Q144.626 740.358 138.816 740.358 Q133.006 740.358 129.927 735.775 Q126.871 731.169 126.871 722.442 Q126.871 713.692 129.927 709.108 Q133.006 704.502 138.816 704.502 Z\" fill=\"#000000\" fill-rule=\"evenodd\" fill-opacity=\"1\" /><path clip-path=\"url(#clip060)\" d=\"M65.0198 377.427 Q61.4087 377.427 59.58 380.992 Q57.7745 384.534 57.7745 391.663 Q57.7745 398.77 59.58 402.335 Q61.4087 405.876 65.0198 405.876 Q68.6541 405.876 70.4596 402.335 Q72.2883 398.77 72.2883 391.663 Q72.2883 384.534 70.4596 380.992 Q68.6541 377.427 65.0198 377.427 M65.0198 373.724 Q70.83 373.724 73.8855 378.33 Q76.9642 382.914 76.9642 391.663 Q76.9642 400.39 73.8855 404.997 Q70.83 409.58 65.0198 409.58 Q59.2097 409.58 56.131 404.997 Q53.0754 400.39 53.0754 391.663 Q53.0754 382.914 56.131 378.33 Q59.2097 373.724 65.0198 373.724 Z\" fill=\"#000000\" fill-rule=\"evenodd\" fill-opacity=\"1\" /><path clip-path=\"url(#clip060)\" d=\"M85.1818 403.029 L90.066 403.029 L90.066 408.909 L85.1818 408.909 L85.1818 403.029 Z\" fill=\"#000000\" fill-rule=\"evenodd\" fill-opacity=\"1\" /><path clip-path=\"url(#clip060)\" d=\"M100.297 374.349 L118.654 374.349 L118.654 378.284 L104.58 378.284 L104.58 386.756 Q105.598 386.409 106.617 386.247 Q107.635 386.062 108.654 386.062 Q114.441 386.062 117.82 389.233 Q121.2 392.404 121.2 397.821 Q121.2 403.4 117.728 406.501 Q114.256 409.58 107.936 409.58 Q105.76 409.58 103.492 409.21 Q101.246 408.839 98.8391 408.099 L98.8391 403.4 Q100.922 404.534 103.145 405.089 Q105.367 405.645 107.844 405.645 Q111.848 405.645 114.186 403.538 Q116.524 401.432 116.524 397.821 Q116.524 394.21 114.186 392.103 Q111.848 389.997 107.844 389.997 Q105.969 389.997 104.094 390.413 Q102.242 390.83 100.297 391.71 L100.297 374.349 Z\" fill=\"#000000\" fill-rule=\"evenodd\" fill-opacity=\"1\" /><path clip-path=\"url(#clip060)\" d=\"M134.441 404.974 L150.76 404.974 L150.76 408.909 L128.816 408.909 L128.816 404.974 Q131.478 402.219 136.061 397.589 Q140.668 392.937 141.848 391.594 Q144.093 389.071 144.973 387.335 Q145.876 385.576 145.876 383.886 Q145.876 381.131 143.931 379.395 Q142.01 377.659 138.908 377.659 Q136.709 377.659 134.256 378.423 Q131.825 379.187 129.047 380.738 L129.047 376.015 Q131.871 374.881 134.325 374.302 Q136.779 373.724 138.816 373.724 Q144.186 373.724 147.38 376.409 Q150.575 379.094 150.575 383.585 Q150.575 385.714 149.765 387.636 Q148.978 389.534 146.871 392.126 Q146.293 392.798 143.191 396.015 Q140.089 399.21 134.441 404.974 Z\" fill=\"#000000\" fill-rule=\"evenodd\" fill-opacity=\"1\" /><path clip-path=\"url(#clip060)\" d=\"M62.9365 46.6492 Q59.3254 46.6492 57.4967 50.214 Q55.6912 53.7556 55.6912 60.8852 Q55.6912 67.9916 57.4967 71.5564 Q59.3254 75.0981 62.9365 75.0981 Q66.5707 75.0981 68.3763 71.5564 Q70.205 67.9916 70.205 60.8852 Q70.205 53.7556 68.3763 50.214 Q66.5707 46.6492 62.9365 46.6492 M62.9365 42.9455 Q68.7467 42.9455 71.8022 47.5519 Q74.8809 52.1352 74.8809 60.8852 Q74.8809 69.612 71.8022 74.2185 Q68.7467 78.8018 62.9365 78.8018 Q57.1264 78.8018 54.0477 74.2185 Q50.9921 69.612 50.9921 60.8852 Q50.9921 52.1352 54.0477 47.5519 Q57.1264 42.9455 62.9365 42.9455 Z\" fill=\"#000000\" fill-rule=\"evenodd\" fill-opacity=\"1\" /><path clip-path=\"url(#clip060)\" d=\"M83.0984 72.2509 L87.9827 72.2509 L87.9827 78.1305 L83.0984 78.1305 L83.0984 72.2509 Z\" fill=\"#000000\" fill-rule=\"evenodd\" fill-opacity=\"1\" /><path clip-path=\"url(#clip060)\" d=\"M98.2141 43.5705 L116.57 43.5705 L116.57 47.5056 L102.496 47.5056 L102.496 55.9778 Q103.515 55.6306 104.534 55.4686 Q105.552 55.2834 106.571 55.2834 Q112.358 55.2834 115.737 58.4547 Q119.117 61.6259 119.117 67.0426 Q119.117 72.6213 115.645 75.7231 Q112.172 78.8018 105.853 78.8018 Q103.677 78.8018 101.409 78.4314 Q99.1632 78.061 96.7558 77.3203 L96.7558 72.6213 Q98.8391 73.7555 101.061 74.3111 Q103.284 74.8666 105.76 74.8666 Q109.765 74.8666 112.103 72.7601 Q114.441 70.6537 114.441 67.0426 Q114.441 63.4315 112.103 61.325 Q109.765 59.2185 105.76 59.2185 Q103.885 59.2185 102.01 59.6352 Q100.159 60.0519 98.2141 60.9315 L98.2141 43.5705 Z\" fill=\"#000000\" fill-rule=\"evenodd\" fill-opacity=\"1\" /><path clip-path=\"url(#clip060)\" d=\"M141.177 47.6445 L129.371 66.0935 L141.177 66.0935 L141.177 47.6445 M139.95 43.5705 L145.83 43.5705 L145.83 66.0935 L150.76 66.0935 L150.76 69.9824 L145.83 69.9824 L145.83 78.1305 L141.177 78.1305 L141.177 69.9824 L125.575 69.9824 L125.575 65.4685 L139.95 43.5705 Z\" fill=\"#000000\" fill-rule=\"evenodd\" fill-opacity=\"1\" /><polyline clip-path=\"url(#clip062)\" style=\"stroke:#009af9; stroke-linecap:butt; stroke-linejoin:round; stroke-width:4; stroke-opacity:1; fill:none\" points=\"\n",
       "  248.062,665.36 289.764,623.284 331.466,966.675 373.168,560.244 414.869,644.003 456.571,599.674 498.273,972.004 539.975,702.987 581.677,636.736 623.379,990.984 \n",
       "  665.081,758.815 706.783,970.988 748.484,745.688 790.186,395.633 831.888,87.9763 873.59,1445.72 915.292,1037.19 956.994,1094.2 998.696,1150.55 1040.4,1257.36 \n",
       "  1082.1,953.957 1123.8,777.974 1165.5,1151.31 1207.21,580.956 1248.91,427.679 1290.61,456.565 1332.31,804.359 1374.01,804.041 1415.71,926.535 1457.42,641.001 \n",
       "  1499.12,704.02 1540.82,823.717 1582.52,907.289 1624.22,864.142 1665.93,765.97 1707.63,907.589 1749.33,679.76 1791.03,146.398 1832.73,367.234 1874.44,602.085 \n",
       "  1916.14,844.35 1957.84,1091.66 1999.54,850.713 2041.24,450.9 2082.94,638.972 2124.65,411.657 2166.35,302.099 2208.05,1261.53 2249.75,1030.41 2291.45,922.011 \n",
       "  \n",
       "  \"/>\n",
       "<path clip-path=\"url(#clip060)\" d=\"\n",
       "M1987.46 198.898 L2280.56 198.898 L2280.56 95.2176 L1987.46 95.2176  Z\n",
       "  \" fill=\"#ffffff\" fill-rule=\"evenodd\" fill-opacity=\"1\"/>\n",
       "<polyline clip-path=\"url(#clip060)\" style=\"stroke:#000000; stroke-linecap:butt; stroke-linejoin:round; stroke-width:4; stroke-opacity:1; fill:none\" points=\"\n",
       "  1987.46,198.898 2280.56,198.898 2280.56,95.2176 1987.46,95.2176 1987.46,198.898 \n",
       "  \"/>\n",
       "<polyline clip-path=\"url(#clip060)\" style=\"stroke:#009af9; stroke-linecap:butt; stroke-linejoin:round; stroke-width:4; stroke-opacity:1; fill:none\" points=\"\n",
       "  2011.53,147.058 2155.93,147.058 \n",
       "  \"/>\n",
       "<path clip-path=\"url(#clip060)\" d=\"M2193.84 166.745 Q2192.03 171.375 2190.32 172.787 Q2188.6 174.199 2185.73 174.199 L2182.33 174.199 L2182.33 170.634 L2184.83 170.634 Q2186.59 170.634 2187.56 169.8 Q2188.53 168.967 2189.71 165.865 L2190.48 163.921 L2179.99 138.412 L2184.51 138.412 L2192.61 158.689 L2200.71 138.412 L2205.22 138.412 L2193.84 166.745 Z\" fill=\"#000000\" fill-rule=\"evenodd\" fill-opacity=\"1\" /><path clip-path=\"url(#clip060)\" d=\"M2212.52 160.402 L2220.15 160.402 L2220.15 134.037 L2211.84 135.703 L2211.84 131.444 L2220.11 129.778 L2224.78 129.778 L2224.78 160.402 L2232.42 160.402 L2232.42 164.338 L2212.52 164.338 L2212.52 160.402 Z\" fill=\"#000000\" fill-rule=\"evenodd\" fill-opacity=\"1\" /></svg>\n"
      ]
     },
     "execution_count": 177,
     "metadata": {},
     "output_type": "execute_result"
    }
   ],
   "source": [
    "function trainloop()\n",
    "    losses = 0\n",
    "    for i in 1:size(x)[1]\n",
    "        index = rand(1:size(x)[1])\n",
    "        data = [x[index]]\n",
    "        output = model(data)\n",
    "        loss = Flux.Losses.mse(output, y[index])\n",
    "        losses += loss\n",
    "    end\n",
    "    return losses/size(x)[1]\n",
    "end\n",
    "losses = []\n",
    "for j in 1:50 \n",
    "    push!(losses, trainloop())\n",
    "end\n",
    "plot(losses)"
   ]
  },
  {
   "cell_type": "code",
   "execution_count": 170,
   "id": "d1dd3e64",
   "metadata": {},
   "outputs": [
    {
     "data": {
      "text/plain": [
       "10-element Vector{Any}:\n",
       " 0.51006776f0\n",
       " 0.51623195f0\n",
       " 0.5525135f0\n",
       " 0.5001629f0\n",
       " 0.4962558f0\n",
       " 0.5f0\n",
       " 0.49481738f0\n",
       " 0.5198667f0\n",
       " 0.4987639f0\n",
       " 0.5067533f0"
      ]
     },
     "execution_count": 170,
     "metadata": {},
     "output_type": "execute_result"
    }
   ],
   "source": []
  },
  {
   "cell_type": "code",
   "execution_count": null,
   "id": "12090d76",
   "metadata": {},
   "outputs": [],
   "source": []
  }
 ],
 "metadata": {
  "kernelspec": {
   "display_name": "Julia 1.7.2",
   "language": "julia",
   "name": "julia-1.7"
  },
  "language_info": {
   "file_extension": ".jl",
   "mimetype": "application/julia",
   "name": "julia",
   "version": "1.7.2"
  }
 },
 "nbformat": 4,
 "nbformat_minor": 5
}
