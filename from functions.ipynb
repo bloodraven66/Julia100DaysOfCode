{
 "cells": [
  {
   "cell_type": "code",
   "execution_count": 4,
   "id": "d2736912",
   "metadata": {},
   "outputs": [
    {
     "data": {
      "text/plain": [
       "2"
      ]
     },
     "execution_count": 4,
     "metadata": {},
     "output_type": "execute_result"
    }
   ],
   "source": [
    "functionname(var) = var + 1\n",
    "functionname(1)"
   ]
  },
  {
   "cell_type": "code",
   "execution_count": 21,
   "id": "d72c442d",
   "metadata": {},
   "outputs": [
    {
     "data": {
      "text/plain": [
       "(2, 6)"
      ]
     },
     "execution_count": 21,
     "metadata": {},
     "output_type": "execute_result"
    }
   ],
   "source": [
    "function functionname(var1, var2=1)\n",
    "    o = var1 + 1\n",
    "    o2 = var2 + 2\n",
    "    return o, o2\n",
    "end\n",
    "functionname(1, 4)"
   ]
  },
  {
   "cell_type": "code",
   "execution_count": 25,
   "id": "59a8ab13",
   "metadata": {},
   "outputs": [
    {
     "data": {
      "text/plain": [
       "(::var\"#myfunction6#4\"{Int64}) (generic function with 1 method)"
      ]
     },
     "execution_count": 25,
     "metadata": {},
     "output_type": "execute_result"
    }
   ],
   "source": [
    "function myfunction5(var1)\n",
    "    function myfunction6(var2)\n",
    "        answer = var1+var2\n",
    "    return answer\n",
    "    end\n",
    "    return myfunction6\n",
    "end\n",
    "myfunction5(2) "
   ]
  },
  {
   "cell_type": "code",
   "execution_count": 26,
   "id": "8ac1f14c",
   "metadata": {},
   "outputs": [
    {
     "data": {
      "text/plain": [
       "#5 (generic function with 1 method)"
      ]
     },
     "execution_count": 26,
     "metadata": {},
     "output_type": "execute_result"
    }
   ],
   "source": [
    "x -> x^2"
   ]
  },
  {
   "cell_type": "code",
   "execution_count": 27,
   "id": "301a7703",
   "metadata": {},
   "outputs": [
    {
     "data": {
      "text/plain": [
       "#7 (generic function with 1 method)"
      ]
     },
     "execution_count": 27,
     "metadata": {},
     "output_type": "execute_result"
    }
   ],
   "source": [
    "a = x -> x^2"
   ]
  },
  {
   "cell_type": "markdown",
   "id": "9cda4cf0",
   "metadata": {},
   "source": [
    "recursion"
   ]
  },
  {
   "cell_type": "code",
   "execution_count": 31,
   "id": "f724bd65",
   "metadata": {},
   "outputs": [
    {
     "data": {
      "text/plain": [
       "1-element Vector{Float64}:\n",
       " 1.0"
      ]
     },
     "execution_count": 31,
     "metadata": {},
     "output_type": "execute_result"
    }
   ],
   "source": [
    "map(floor, [1.2])"
   ]
  },
  {
   "cell_type": "code",
   "execution_count": 32,
   "id": "202339d6",
   "metadata": {},
   "outputs": [
    {
     "data": {
      "text/plain": [
       "2-element Vector{Int64}:\n",
       " 3\n",
       " 5"
      ]
     },
     "execution_count": 32,
     "metadata": {},
     "output_type": "execute_result"
    }
   ],
   "source": [
    "map(x -> x+2, [1, 3])"
   ]
  },
  {
   "cell_type": "code",
   "execution_count": 37,
   "id": "0282cddc",
   "metadata": {},
   "outputs": [
    {
     "name": "stdout",
     "output_type": "stream",
     "text": [
      "1.0\n",
      "2\n",
      "hi\n"
     ]
    }
   ],
   "source": [
    "for i in [1. 2 \"hi\"]\n",
    "    println(i)\n",
    "end"
   ]
  },
  {
   "cell_type": "code",
   "execution_count": 41,
   "id": "2c5c87a3",
   "metadata": {},
   "outputs": [
    {
     "data": {
      "text/plain": [
       "1×3 Matrix{Int64}:\n",
       " 1  4  9"
      ]
     },
     "execution_count": 41,
     "metadata": {},
     "output_type": "execute_result"
    }
   ],
   "source": [
    "a = [i^2 for i in [1 2 3]]"
   ]
  },
  {
   "cell_type": "code",
   "execution_count": 43,
   "id": "e5f5687e",
   "metadata": {},
   "outputs": [
    {
     "data": {
      "text/plain": [
       "zip([1, 2], [2, 3])"
      ]
     },
     "execution_count": 43,
     "metadata": {},
     "output_type": "execute_result"
    }
   ],
   "source": [
    "a = [1,2]; b = [2, 3]; zip(a,b)"
   ]
  },
  {
   "cell_type": "code",
   "execution_count": 51,
   "id": "6f730cb6",
   "metadata": {},
   "outputs": [],
   "source": [
    "struct LotOfData1\n",
    "    id::Int\n",
    "    name::String\n",
    "    age::Float16\n",
    "end"
   ]
  },
  {
   "cell_type": "code",
   "execution_count": 58,
   "id": "86bbf0e8",
   "metadata": {},
   "outputs": [
    {
     "data": {
      "text/plain": [
       "LotOfData1(1, \"h\", Float16(3.0))"
      ]
     },
     "execution_count": 58,
     "metadata": {},
     "output_type": "execute_result"
    }
   ],
   "source": [
    "a = LotOfData1(1, \"h\", 3)"
   ]
  },
  {
   "cell_type": "code",
   "execution_count": 57,
   "id": "60b8742e",
   "metadata": {},
   "outputs": [
    {
     "data": {
      "text/plain": [
       "(:id, :name, :age)"
      ]
     },
     "execution_count": 57,
     "metadata": {},
     "output_type": "execute_result"
    }
   ],
   "source": [
    "fieldnames(LotOfData1)"
   ]
  },
  {
   "cell_type": "code",
   "execution_count": 60,
   "id": "d961910b",
   "metadata": {},
   "outputs": [
    {
     "data": {
      "text/plain": [
       "1"
      ]
     },
     "execution_count": 60,
     "metadata": {},
     "output_type": "execute_result"
    }
   ],
   "source": [
    "a.id"
   ]
  },
  {
   "cell_type": "code",
   "execution_count": 62,
   "id": "558b017b",
   "metadata": {},
   "outputs": [],
   "source": [
    "mutable struct data\n",
    "end"
   ]
  },
  {
   "cell_type": "code",
   "execution_count": 66,
   "id": "6f56e255",
   "metadata": {},
   "outputs": [
    {
     "name": "stdout",
     "output_type": "stream",
     "text": [
      "Hello Jesus likes economics\n"
     ]
    }
   ],
   "source": [
    "macro welcome(name)\n",
    "    return :(println(\"Hello \", $name, \" likes economics\"))\n",
    "end\n",
    "@welcome(\"Jesus\")"
   ]
  },
  {
   "cell_type": "code",
   "execution_count": 68,
   "id": "2dfb90e0",
   "metadata": {},
   "outputs": [
    {
     "name": "stderr",
     "output_type": "stream",
     "text": [
      "\u001b[32m\u001b[1m   Resolving\u001b[22m\u001b[39m package versions...\n",
      "\u001b[32m\u001b[1m  No Changes\u001b[22m\u001b[39m to `~/.julia/environments/v1.7/Project.toml`\n",
      "\u001b[32m\u001b[1m  No Changes\u001b[22m\u001b[39m to `~/.julia/environments/v1.7/Manifest.toml`\n"
     ]
    }
   ],
   "source": [
    "import Pkg; Pkg.add(\"Plots\")\n",
    "using Plots"
   ]
  },
  {
   "cell_type": "code",
   "execution_count": 74,
   "id": "5b7c9d53",
   "metadata": {},
   "outputs": [
    {
     "data": {
      "image/svg+xml": [
       "<?xml version=\"1.0\" encoding=\"utf-8\"?>\n",
       "<svg xmlns=\"http://www.w3.org/2000/svg\" xmlns:xlink=\"http://www.w3.org/1999/xlink\" width=\"600\" height=\"400\" viewBox=\"0 0 2400 1600\">\n",
       "<defs>\n",
       "  <clipPath id=\"clip380\">\n",
       "    <rect x=\"0\" y=\"0\" width=\"2400\" height=\"1600\"/>\n",
       "  </clipPath>\n",
       "</defs>\n",
       "<path clip-path=\"url(#clip380)\" d=\"\n",
       "M0 1600 L2400 1600 L2400 0 L0 0  Z\n",
       "  \" fill=\"#ffffff\" fill-rule=\"evenodd\" fill-opacity=\"1\"/>\n",
       "<defs>\n",
       "  <clipPath id=\"clip381\">\n",
       "    <rect x=\"480\" y=\"0\" width=\"1681\" height=\"1600\"/>\n",
       "  </clipPath>\n",
       "</defs>\n",
       "<path clip-path=\"url(#clip380)\" d=\"\n",
       "M169.121 1486.45 L2352.76 1486.45 L2352.76 47.2441 L169.121 47.2441  Z\n",
       "  \" fill=\"#ffffff\" fill-rule=\"evenodd\" fill-opacity=\"1\"/>\n",
       "<defs>\n",
       "  <clipPath id=\"clip382\">\n",
       "    <rect x=\"169\" y=\"47\" width=\"2185\" height=\"1440\"/>\n",
       "  </clipPath>\n",
       "</defs>\n",
       "<polyline clip-path=\"url(#clip382)\" style=\"stroke:#000000; stroke-linecap:butt; stroke-linejoin:round; stroke-width:2; stroke-opacity:0.1; fill:none\" points=\"\n",
       "  459.815,1486.45 459.815,47.2441 \n",
       "  \"/>\n",
       "<polyline clip-path=\"url(#clip382)\" style=\"stroke:#000000; stroke-linecap:butt; stroke-linejoin:round; stroke-width:2; stroke-opacity:0.1; fill:none\" points=\"\n",
       "  917.6,1486.45 917.6,47.2441 \n",
       "  \"/>\n",
       "<polyline clip-path=\"url(#clip382)\" style=\"stroke:#000000; stroke-linecap:butt; stroke-linejoin:round; stroke-width:2; stroke-opacity:0.1; fill:none\" points=\"\n",
       "  1375.38,1486.45 1375.38,47.2441 \n",
       "  \"/>\n",
       "<polyline clip-path=\"url(#clip382)\" style=\"stroke:#000000; stroke-linecap:butt; stroke-linejoin:round; stroke-width:2; stroke-opacity:0.1; fill:none\" points=\"\n",
       "  1833.17,1486.45 1833.17,47.2441 \n",
       "  \"/>\n",
       "<polyline clip-path=\"url(#clip382)\" style=\"stroke:#000000; stroke-linecap:butt; stroke-linejoin:round; stroke-width:2; stroke-opacity:0.1; fill:none\" points=\"\n",
       "  2290.95,1486.45 2290.95,47.2441 \n",
       "  \"/>\n",
       "<polyline clip-path=\"url(#clip380)\" style=\"stroke:#000000; stroke-linecap:butt; stroke-linejoin:round; stroke-width:4; stroke-opacity:1; fill:none\" points=\"\n",
       "  169.121,1486.45 2352.76,1486.45 \n",
       "  \"/>\n",
       "<polyline clip-path=\"url(#clip380)\" style=\"stroke:#000000; stroke-linecap:butt; stroke-linejoin:round; stroke-width:4; stroke-opacity:1; fill:none\" points=\"\n",
       "  459.815,1486.45 459.815,1467.55 \n",
       "  \"/>\n",
       "<polyline clip-path=\"url(#clip380)\" style=\"stroke:#000000; stroke-linecap:butt; stroke-linejoin:round; stroke-width:4; stroke-opacity:1; fill:none\" points=\"\n",
       "  917.6,1486.45 917.6,1467.55 \n",
       "  \"/>\n",
       "<polyline clip-path=\"url(#clip380)\" style=\"stroke:#000000; stroke-linecap:butt; stroke-linejoin:round; stroke-width:4; stroke-opacity:1; fill:none\" points=\"\n",
       "  1375.38,1486.45 1375.38,1467.55 \n",
       "  \"/>\n",
       "<polyline clip-path=\"url(#clip380)\" style=\"stroke:#000000; stroke-linecap:butt; stroke-linejoin:round; stroke-width:4; stroke-opacity:1; fill:none\" points=\"\n",
       "  1833.17,1486.45 1833.17,1467.55 \n",
       "  \"/>\n",
       "<polyline clip-path=\"url(#clip380)\" style=\"stroke:#000000; stroke-linecap:butt; stroke-linejoin:round; stroke-width:4; stroke-opacity:1; fill:none\" points=\"\n",
       "  2290.95,1486.45 2290.95,1467.55 \n",
       "  \"/>\n",
       "<path clip-path=\"url(#clip380)\" d=\"M454.468 1544.91 L470.787 1544.91 L470.787 1548.85 L448.843 1548.85 L448.843 1544.91 Q451.505 1542.16 456.088 1537.53 Q460.694 1532.88 461.875 1531.53 Q464.12 1529.01 465 1527.27 Q465.903 1525.51 465.903 1523.82 Q465.903 1521.07 463.958 1519.33 Q462.037 1517.6 458.935 1517.6 Q456.736 1517.6 454.282 1518.36 Q451.852 1519.13 449.074 1520.68 L449.074 1515.95 Q451.898 1514.82 454.352 1514.24 Q456.806 1513.66 458.843 1513.66 Q464.213 1513.66 467.407 1516.35 Q470.602 1519.03 470.602 1523.52 Q470.602 1525.65 469.792 1527.57 Q469.005 1529.47 466.898 1532.07 Q466.319 1532.74 463.218 1535.95 Q460.116 1539.15 454.468 1544.91 Z\" fill=\"#000000\" fill-rule=\"evenodd\" fill-opacity=\"1\" /><path clip-path=\"url(#clip380)\" d=\"M920.609 1518.36 L908.804 1536.81 L920.609 1536.81 L920.609 1518.36 M919.382 1514.29 L925.262 1514.29 L925.262 1536.81 L930.192 1536.81 L930.192 1540.7 L925.262 1540.7 L925.262 1548.85 L920.609 1548.85 L920.609 1540.7 L905.007 1540.7 L905.007 1536.19 L919.382 1514.29 Z\" fill=\"#000000\" fill-rule=\"evenodd\" fill-opacity=\"1\" /><path clip-path=\"url(#clip380)\" d=\"M1375.79 1529.7 Q1372.64 1529.7 1370.79 1531.86 Q1368.96 1534.01 1368.96 1537.76 Q1368.96 1541.49 1370.79 1543.66 Q1372.64 1545.82 1375.79 1545.82 Q1378.94 1545.82 1380.77 1543.66 Q1382.62 1541.49 1382.62 1537.76 Q1382.62 1534.01 1380.77 1531.86 Q1378.94 1529.7 1375.79 1529.7 M1385.07 1515.05 L1385.07 1519.31 Q1383.31 1518.48 1381.51 1518.04 Q1379.73 1517.6 1377.97 1517.6 Q1373.34 1517.6 1370.88 1520.72 Q1368.45 1523.85 1368.1 1530.17 Q1369.47 1528.15 1371.53 1527.09 Q1373.59 1526 1376.07 1526 Q1381.28 1526 1384.29 1529.17 Q1387.32 1532.32 1387.32 1537.76 Q1387.32 1543.08 1384.17 1546.3 Q1381.02 1549.52 1375.79 1549.52 Q1369.79 1549.52 1366.62 1544.94 Q1363.45 1540.33 1363.45 1531.6 Q1363.45 1523.41 1367.34 1518.55 Q1371.23 1513.66 1377.78 1513.66 Q1379.54 1513.66 1381.32 1514.01 Q1383.13 1514.36 1385.07 1515.05 Z\" fill=\"#000000\" fill-rule=\"evenodd\" fill-opacity=\"1\" /><path clip-path=\"url(#clip380)\" d=\"M1833.17 1532.44 Q1829.84 1532.44 1827.92 1534.22 Q1826.02 1536 1826.02 1539.13 Q1826.02 1542.25 1827.92 1544.03 Q1829.84 1545.82 1833.17 1545.82 Q1836.5 1545.82 1838.42 1544.03 Q1840.35 1542.23 1840.35 1539.13 Q1840.35 1536 1838.42 1534.22 Q1836.53 1532.44 1833.17 1532.44 M1828.49 1530.45 Q1825.48 1529.7 1823.79 1527.64 Q1822.13 1525.58 1822.13 1522.62 Q1822.13 1518.48 1825.07 1516.07 Q1828.03 1513.66 1833.17 1513.66 Q1838.33 1513.66 1841.27 1516.07 Q1844.21 1518.48 1844.21 1522.62 Q1844.21 1525.58 1842.52 1527.64 Q1840.86 1529.7 1837.87 1530.45 Q1841.25 1531.23 1843.12 1533.52 Q1845.02 1535.82 1845.02 1539.13 Q1845.02 1544.15 1841.94 1546.83 Q1838.89 1549.52 1833.17 1549.52 Q1827.45 1549.52 1824.37 1546.83 Q1821.32 1544.15 1821.32 1539.13 Q1821.32 1535.82 1823.22 1533.52 Q1825.11 1531.23 1828.49 1530.45 M1826.78 1523.06 Q1826.78 1525.75 1828.45 1527.25 Q1830.14 1528.76 1833.17 1528.76 Q1836.18 1528.76 1837.87 1527.25 Q1839.58 1525.75 1839.58 1523.06 Q1839.58 1520.38 1837.87 1518.87 Q1836.18 1517.37 1833.17 1517.37 Q1830.14 1517.37 1828.45 1518.87 Q1826.78 1520.38 1826.78 1523.06 Z\" fill=\"#000000\" fill-rule=\"evenodd\" fill-opacity=\"1\" /><path clip-path=\"url(#clip380)\" d=\"M2265.64 1544.91 L2273.28 1544.91 L2273.28 1518.55 L2264.97 1520.21 L2264.97 1515.95 L2273.24 1514.29 L2277.91 1514.29 L2277.91 1544.91 L2285.55 1544.91 L2285.55 1548.85 L2265.64 1548.85 L2265.64 1544.91 Z\" fill=\"#000000\" fill-rule=\"evenodd\" fill-opacity=\"1\" /><path clip-path=\"url(#clip380)\" d=\"M2304.99 1517.37 Q2301.38 1517.37 2299.55 1520.93 Q2297.75 1524.47 2297.75 1531.6 Q2297.75 1538.71 2299.55 1542.27 Q2301.38 1545.82 2304.99 1545.82 Q2308.63 1545.82 2310.43 1542.27 Q2312.26 1538.71 2312.26 1531.6 Q2312.26 1524.47 2310.43 1520.93 Q2308.63 1517.37 2304.99 1517.37 M2304.99 1513.66 Q2310.8 1513.66 2313.86 1518.27 Q2316.94 1522.85 2316.94 1531.6 Q2316.94 1540.33 2313.86 1544.94 Q2310.8 1549.52 2304.99 1549.52 Q2299.18 1549.52 2296.11 1544.94 Q2293.05 1540.33 2293.05 1531.6 Q2293.05 1522.85 2296.11 1518.27 Q2299.18 1513.66 2304.99 1513.66 Z\" fill=\"#000000\" fill-rule=\"evenodd\" fill-opacity=\"1\" /><polyline clip-path=\"url(#clip382)\" style=\"stroke:#000000; stroke-linecap:butt; stroke-linejoin:round; stroke-width:2; stroke-opacity:0.1; fill:none\" points=\"\n",
       "  169.121,1459.43 2352.76,1459.43 \n",
       "  \"/>\n",
       "<polyline clip-path=\"url(#clip382)\" style=\"stroke:#000000; stroke-linecap:butt; stroke-linejoin:round; stroke-width:2; stroke-opacity:0.1; fill:none\" points=\"\n",
       "  169.121,1116.57 2352.76,1116.57 \n",
       "  \"/>\n",
       "<polyline clip-path=\"url(#clip382)\" style=\"stroke:#000000; stroke-linecap:butt; stroke-linejoin:round; stroke-width:2; stroke-opacity:0.1; fill:none\" points=\"\n",
       "  169.121,773.703 2352.76,773.703 \n",
       "  \"/>\n",
       "<polyline clip-path=\"url(#clip382)\" style=\"stroke:#000000; stroke-linecap:butt; stroke-linejoin:round; stroke-width:2; stroke-opacity:0.1; fill:none\" points=\"\n",
       "  169.121,430.84 2352.76,430.84 \n",
       "  \"/>\n",
       "<polyline clip-path=\"url(#clip382)\" style=\"stroke:#000000; stroke-linecap:butt; stroke-linejoin:round; stroke-width:2; stroke-opacity:0.1; fill:none\" points=\"\n",
       "  169.121,87.9763 2352.76,87.9763 \n",
       "  \"/>\n",
       "<polyline clip-path=\"url(#clip380)\" style=\"stroke:#000000; stroke-linecap:butt; stroke-linejoin:round; stroke-width:4; stroke-opacity:1; fill:none\" points=\"\n",
       "  169.121,1486.45 169.121,47.2441 \n",
       "  \"/>\n",
       "<polyline clip-path=\"url(#clip380)\" style=\"stroke:#000000; stroke-linecap:butt; stroke-linejoin:round; stroke-width:4; stroke-opacity:1; fill:none\" points=\"\n",
       "  169.121,1459.43 188.019,1459.43 \n",
       "  \"/>\n",
       "<polyline clip-path=\"url(#clip380)\" style=\"stroke:#000000; stroke-linecap:butt; stroke-linejoin:round; stroke-width:4; stroke-opacity:1; fill:none\" points=\"\n",
       "  169.121,1116.57 188.019,1116.57 \n",
       "  \"/>\n",
       "<polyline clip-path=\"url(#clip380)\" style=\"stroke:#000000; stroke-linecap:butt; stroke-linejoin:round; stroke-width:4; stroke-opacity:1; fill:none\" points=\"\n",
       "  169.121,773.703 188.019,773.703 \n",
       "  \"/>\n",
       "<polyline clip-path=\"url(#clip380)\" style=\"stroke:#000000; stroke-linecap:butt; stroke-linejoin:round; stroke-width:4; stroke-opacity:1; fill:none\" points=\"\n",
       "  169.121,430.84 188.019,430.84 \n",
       "  \"/>\n",
       "<polyline clip-path=\"url(#clip380)\" style=\"stroke:#000000; stroke-linecap:butt; stroke-linejoin:round; stroke-width:4; stroke-opacity:1; fill:none\" points=\"\n",
       "  169.121,87.9763 188.019,87.9763 \n",
       "  \"/>\n",
       "<path clip-path=\"url(#clip380)\" d=\"M121.177 1445.23 Q117.566 1445.23 115.737 1448.79 Q113.932 1452.34 113.932 1459.46 Q113.932 1466.57 115.737 1470.14 Q117.566 1473.68 121.177 1473.68 Q124.811 1473.68 126.617 1470.14 Q128.445 1466.57 128.445 1459.46 Q128.445 1452.34 126.617 1448.79 Q124.811 1445.23 121.177 1445.23 M121.177 1441.53 Q126.987 1441.53 130.043 1446.13 Q133.121 1450.72 133.121 1459.46 Q133.121 1468.19 130.043 1472.8 Q126.987 1477.38 121.177 1477.38 Q115.367 1477.38 112.288 1472.8 Q109.233 1468.19 109.233 1459.46 Q109.233 1450.72 112.288 1446.13 Q115.367 1441.53 121.177 1441.53 Z\" fill=\"#000000\" fill-rule=\"evenodd\" fill-opacity=\"1\" /><path clip-path=\"url(#clip380)\" d=\"M86.0382 1129.91 L102.358 1129.91 L102.358 1133.85 L80.4133 1133.85 L80.4133 1129.91 Q83.0753 1127.16 87.6586 1122.53 Q92.2651 1117.87 93.4456 1116.53 Q95.691 1114.01 96.5706 1112.27 Q97.4734 1110.51 97.4734 1108.82 Q97.4734 1106.07 95.5289 1104.33 Q93.6076 1102.6 90.5058 1102.6 Q88.3067 1102.6 85.8531 1103.36 Q83.4225 1104.12 80.6447 1105.68 L80.6447 1100.95 Q83.4688 1099.82 85.9225 1099.24 Q88.3762 1098.66 90.4132 1098.66 Q95.7836 1098.66 98.978 1101.35 Q102.172 1104.03 102.172 1108.52 Q102.172 1110.65 101.362 1112.57 Q100.575 1114.47 98.4687 1117.06 Q97.89 1117.74 94.7882 1120.95 Q91.6864 1124.15 86.0382 1129.91 Z\" fill=\"#000000\" fill-rule=\"evenodd\" fill-opacity=\"1\" /><path clip-path=\"url(#clip380)\" d=\"M112.219 1099.29 L130.575 1099.29 L130.575 1103.22 L116.501 1103.22 L116.501 1111.69 Q117.52 1111.35 118.538 1111.18 Q119.557 1111 120.575 1111 Q126.362 1111 129.742 1114.17 Q133.121 1117.34 133.121 1122.76 Q133.121 1128.34 129.649 1131.44 Q126.177 1134.52 119.857 1134.52 Q117.682 1134.52 115.413 1134.15 Q113.168 1133.78 110.76 1133.04 L110.76 1128.34 Q112.844 1129.47 115.066 1130.03 Q117.288 1130.58 119.765 1130.58 Q123.77 1130.58 126.107 1128.48 Q128.445 1126.37 128.445 1122.76 Q128.445 1119.15 126.107 1117.04 Q123.77 1114.93 119.765 1114.93 Q117.89 1114.93 116.015 1115.35 Q114.163 1115.77 112.219 1116.65 L112.219 1099.29 Z\" fill=\"#000000\" fill-rule=\"evenodd\" fill-opacity=\"1\" /><path clip-path=\"url(#clip380)\" d=\"M81.0614 756.423 L99.4178 756.423 L99.4178 760.358 L85.3438 760.358 L85.3438 768.831 Q86.3623 768.483 87.3808 768.321 Q88.3993 768.136 89.4178 768.136 Q95.2049 768.136 98.5845 771.307 Q101.964 774.479 101.964 779.895 Q101.964 785.474 98.4919 788.576 Q95.0197 791.655 88.7003 791.655 Q86.5243 791.655 84.2558 791.284 Q82.0105 790.914 79.6031 790.173 L79.6031 785.474 Q81.6864 786.608 83.9086 787.164 Q86.1308 787.719 88.6077 787.719 Q92.6123 787.719 94.9502 785.613 Q97.2882 783.506 97.2882 779.895 Q97.2882 776.284 94.9502 774.178 Q92.6123 772.071 88.6077 772.071 Q86.7327 772.071 84.8577 772.488 Q83.0058 772.905 81.0614 773.784 L81.0614 756.423 Z\" fill=\"#000000\" fill-rule=\"evenodd\" fill-opacity=\"1\" /><path clip-path=\"url(#clip380)\" d=\"M121.177 759.502 Q117.566 759.502 115.737 763.067 Q113.932 766.608 113.932 773.738 Q113.932 780.844 115.737 784.409 Q117.566 787.951 121.177 787.951 Q124.811 787.951 126.617 784.409 Q128.445 780.844 128.445 773.738 Q128.445 766.608 126.617 763.067 Q124.811 759.502 121.177 759.502 M121.177 755.798 Q126.987 755.798 130.043 760.405 Q133.121 764.988 133.121 773.738 Q133.121 782.465 130.043 787.071 Q126.987 791.655 121.177 791.655 Q115.367 791.655 112.288 787.071 Q109.233 782.465 109.233 773.738 Q109.233 764.988 112.288 760.405 Q115.367 755.798 121.177 755.798 Z\" fill=\"#000000\" fill-rule=\"evenodd\" fill-opacity=\"1\" /><path clip-path=\"url(#clip380)\" d=\"M80.8299 413.56 L103.052 413.56 L103.052 415.55 L90.5058 448.12 L85.6216 448.12 L97.4271 417.495 L80.8299 417.495 L80.8299 413.56 Z\" fill=\"#000000\" fill-rule=\"evenodd\" fill-opacity=\"1\" /><path clip-path=\"url(#clip380)\" d=\"M112.219 413.56 L130.575 413.56 L130.575 417.495 L116.501 417.495 L116.501 425.967 Q117.52 425.62 118.538 425.458 Q119.557 425.273 120.575 425.273 Q126.362 425.273 129.742 428.444 Q133.121 431.615 133.121 437.032 Q133.121 442.611 129.649 445.712 Q126.177 448.791 119.857 448.791 Q117.682 448.791 115.413 448.421 Q113.168 448.05 110.76 447.31 L110.76 442.611 Q112.844 443.745 115.066 444.3 Q117.288 444.856 119.765 444.856 Q123.77 444.856 126.107 442.749 Q128.445 440.643 128.445 437.032 Q128.445 433.421 126.107 431.314 Q123.77 429.208 119.765 429.208 Q117.89 429.208 116.015 429.624 Q114.163 430.041 112.219 430.921 L112.219 413.56 Z\" fill=\"#000000\" fill-rule=\"evenodd\" fill-opacity=\"1\" /><path clip-path=\"url(#clip380)\" d=\"M51.6634 101.321 L59.3023 101.321 L59.3023 74.9555 L50.9921 76.6222 L50.9921 72.3629 L59.256 70.6963 L63.9319 70.6963 L63.9319 101.321 L71.5707 101.321 L71.5707 105.256 L51.6634 105.256 L51.6634 101.321 Z\" fill=\"#000000\" fill-rule=\"evenodd\" fill-opacity=\"1\" /><path clip-path=\"url(#clip380)\" d=\"M91.0151 73.775 Q87.404 73.775 85.5753 77.3398 Q83.7697 80.8814 83.7697 88.011 Q83.7697 95.1174 85.5753 98.6822 Q87.404 102.224 91.0151 102.224 Q94.6493 102.224 96.4548 98.6822 Q98.2835 95.1174 98.2835 88.011 Q98.2835 80.8814 96.4548 77.3398 Q94.6493 73.775 91.0151 73.775 M91.0151 70.0713 Q96.8252 70.0713 99.8808 74.6777 Q102.959 79.261 102.959 88.011 Q102.959 96.7378 99.8808 101.344 Q96.8252 105.928 91.0151 105.928 Q85.2049 105.928 82.1262 101.344 Q79.0707 96.7378 79.0707 88.011 Q79.0707 79.261 82.1262 74.6777 Q85.2049 70.0713 91.0151 70.0713 Z\" fill=\"#000000\" fill-rule=\"evenodd\" fill-opacity=\"1\" /><path clip-path=\"url(#clip380)\" d=\"M121.177 73.775 Q117.566 73.775 115.737 77.3398 Q113.932 80.8814 113.932 88.011 Q113.932 95.1174 115.737 98.6822 Q117.566 102.224 121.177 102.224 Q124.811 102.224 126.617 98.6822 Q128.445 95.1174 128.445 88.011 Q128.445 80.8814 126.617 77.3398 Q124.811 73.775 121.177 73.775 M121.177 70.0713 Q126.987 70.0713 130.043 74.6777 Q133.121 79.261 133.121 88.011 Q133.121 96.7378 130.043 101.344 Q126.987 105.928 121.177 105.928 Q115.367 105.928 112.288 101.344 Q109.233 96.7378 109.233 88.011 Q109.233 79.261 112.288 74.6777 Q115.367 70.0713 121.177 70.0713 Z\" fill=\"#000000\" fill-rule=\"evenodd\" fill-opacity=\"1\" /><polyline clip-path=\"url(#clip382)\" style=\"stroke:#009af9; stroke-linecap:butt; stroke-linejoin:round; stroke-width:4; stroke-opacity:1; fill:none\" points=\"\n",
       "  230.922,1445.72 459.815,1404.57 688.707,1336 917.6,1240 1146.49,1116.57 1375.38,965.707 1604.28,787.418 1833.17,581.7 2062.06,348.553 2290.95,87.9763 \n",
       "  \n",
       "  \"/>\n",
       "<path clip-path=\"url(#clip380)\" d=\"\n",
       "M1984.91 198.898 L2279.97 198.898 L2279.97 95.2176 L1984.91 95.2176  Z\n",
       "  \" fill=\"#ffffff\" fill-rule=\"evenodd\" fill-opacity=\"1\"/>\n",
       "<polyline clip-path=\"url(#clip380)\" style=\"stroke:#000000; stroke-linecap:butt; stroke-linejoin:round; stroke-width:4; stroke-opacity:1; fill:none\" points=\"\n",
       "  1984.91,198.898 2279.97,198.898 2279.97,95.2176 1984.91,95.2176 1984.91,198.898 \n",
       "  \"/>\n",
       "<polyline clip-path=\"url(#clip380)\" style=\"stroke:#009af9; stroke-linecap:butt; stroke-linejoin:round; stroke-width:4; stroke-opacity:1; fill:none\" points=\"\n",
       "  2009.17,147.058 2154.75,147.058 \n",
       "  \"/>\n",
       "<path clip-path=\"url(#clip380)\" d=\"M2192.86 166.745 Q2191.05 171.375 2189.34 172.787 Q2187.62 174.199 2184.75 174.199 L2181.35 174.199 L2181.35 170.634 L2183.85 170.634 Q2185.61 170.634 2186.58 169.8 Q2187.55 168.967 2188.73 165.865 L2189.5 163.921 L2179.01 138.412 L2183.53 138.412 L2191.63 158.689 L2199.73 138.412 L2204.24 138.412 L2192.86 166.745 Z\" fill=\"#000000\" fill-rule=\"evenodd\" fill-opacity=\"1\" /><path clip-path=\"url(#clip380)\" d=\"M2211.54 160.402 L2219.17 160.402 L2219.17 134.037 L2210.86 135.703 L2210.86 131.444 L2219.13 129.778 L2223.8 129.778 L2223.8 160.402 L2231.44 160.402 L2231.44 164.338 L2211.54 164.338 L2211.54 160.402 Z\" fill=\"#000000\" fill-rule=\"evenodd\" fill-opacity=\"1\" /></svg>\n"
      ]
     },
     "execution_count": 74,
     "metadata": {},
     "output_type": "execute_result"
    }
   ],
   "source": [
    "a = 1:10\n",
    "y = a.^2\n",
    "plot(a, y)"
   ]
  },
  {
   "cell_type": "code",
   "execution_count": 84,
   "id": "225e6232",
   "metadata": {},
   "outputs": [
    {
     "data": {
      "image/svg+xml": [
       "<?xml version=\"1.0\" encoding=\"utf-8\"?>\n",
       "<svg xmlns=\"http://www.w3.org/2000/svg\" xmlns:xlink=\"http://www.w3.org/1999/xlink\" width=\"600\" height=\"400\" viewBox=\"0 0 2400 1600\">\n",
       "<defs>\n",
       "  <clipPath id=\"clip580\">\n",
       "    <rect x=\"0\" y=\"0\" width=\"2400\" height=\"1600\"/>\n",
       "  </clipPath>\n",
       "</defs>\n",
       "<path clip-path=\"url(#clip580)\" d=\"\n",
       "M0 1600 L2400 1600 L2400 0 L0 0  Z\n",
       "  \" fill=\"#ffffff\" fill-rule=\"evenodd\" fill-opacity=\"1\"/>\n",
       "<defs>\n",
       "  <clipPath id=\"clip581\">\n",
       "    <rect x=\"480\" y=\"0\" width=\"1681\" height=\"1600\"/>\n",
       "  </clipPath>\n",
       "</defs>\n",
       "<path clip-path=\"url(#clip580)\" d=\"\n",
       "M232.389 1423.18 L2352.76 1423.18 L2352.76 47.2441 L232.389 47.2441  Z\n",
       "  \" fill=\"#ffffff\" fill-rule=\"evenodd\" fill-opacity=\"1\"/>\n",
       "<defs>\n",
       "  <clipPath id=\"clip582\">\n",
       "    <rect x=\"232\" y=\"47\" width=\"2121\" height=\"1377\"/>\n",
       "  </clipPath>\n",
       "</defs>\n",
       "<polyline clip-path=\"url(#clip582)\" style=\"stroke:#000000; stroke-linecap:butt; stroke-linejoin:round; stroke-width:2; stroke-opacity:0.1; fill:none\" points=\"\n",
       "  514.66,1423.18 514.66,47.2441 \n",
       "  \"/>\n",
       "<polyline clip-path=\"url(#clip582)\" style=\"stroke:#000000; stroke-linecap:butt; stroke-linejoin:round; stroke-width:2; stroke-opacity:0.1; fill:none\" points=\"\n",
       "  959.182,1423.18 959.182,47.2441 \n",
       "  \"/>\n",
       "<polyline clip-path=\"url(#clip582)\" style=\"stroke:#000000; stroke-linecap:butt; stroke-linejoin:round; stroke-width:2; stroke-opacity:0.1; fill:none\" points=\"\n",
       "  1403.7,1423.18 1403.7,47.2441 \n",
       "  \"/>\n",
       "<polyline clip-path=\"url(#clip582)\" style=\"stroke:#000000; stroke-linecap:butt; stroke-linejoin:round; stroke-width:2; stroke-opacity:0.1; fill:none\" points=\"\n",
       "  1848.22,1423.18 1848.22,47.2441 \n",
       "  \"/>\n",
       "<polyline clip-path=\"url(#clip582)\" style=\"stroke:#000000; stroke-linecap:butt; stroke-linejoin:round; stroke-width:2; stroke-opacity:0.1; fill:none\" points=\"\n",
       "  2292.75,1423.18 2292.75,47.2441 \n",
       "  \"/>\n",
       "<polyline clip-path=\"url(#clip580)\" style=\"stroke:#000000; stroke-linecap:butt; stroke-linejoin:round; stroke-width:4; stroke-opacity:1; fill:none\" points=\"\n",
       "  232.389,1423.18 2352.76,1423.18 \n",
       "  \"/>\n",
       "<polyline clip-path=\"url(#clip580)\" style=\"stroke:#000000; stroke-linecap:butt; stroke-linejoin:round; stroke-width:4; stroke-opacity:1; fill:none\" points=\"\n",
       "  514.66,1423.18 514.66,1404.28 \n",
       "  \"/>\n",
       "<polyline clip-path=\"url(#clip580)\" style=\"stroke:#000000; stroke-linecap:butt; stroke-linejoin:round; stroke-width:4; stroke-opacity:1; fill:none\" points=\"\n",
       "  959.182,1423.18 959.182,1404.28 \n",
       "  \"/>\n",
       "<polyline clip-path=\"url(#clip580)\" style=\"stroke:#000000; stroke-linecap:butt; stroke-linejoin:round; stroke-width:4; stroke-opacity:1; fill:none\" points=\"\n",
       "  1403.7,1423.18 1403.7,1404.28 \n",
       "  \"/>\n",
       "<polyline clip-path=\"url(#clip580)\" style=\"stroke:#000000; stroke-linecap:butt; stroke-linejoin:round; stroke-width:4; stroke-opacity:1; fill:none\" points=\"\n",
       "  1848.22,1423.18 1848.22,1404.28 \n",
       "  \"/>\n",
       "<polyline clip-path=\"url(#clip580)\" style=\"stroke:#000000; stroke-linecap:butt; stroke-linejoin:round; stroke-width:4; stroke-opacity:1; fill:none\" points=\"\n",
       "  2292.75,1423.18 2292.75,1404.28 \n",
       "  \"/>\n",
       "<path clip-path=\"url(#clip580)\" d=\"M509.313 1481.64 L525.633 1481.64 L525.633 1485.58 L503.688 1485.58 L503.688 1481.64 Q506.35 1478.89 510.934 1474.26 Q515.54 1469.61 516.721 1468.27 Q518.966 1465.74 519.846 1464.01 Q520.748 1462.25 520.748 1460.56 Q520.748 1457.8 518.804 1456.07 Q516.883 1454.33 513.781 1454.33 Q511.582 1454.33 509.128 1455.09 Q506.697 1455.86 503.92 1457.41 L503.92 1452.69 Q506.744 1451.55 509.197 1450.97 Q511.651 1450.39 513.688 1450.39 Q519.058 1450.39 522.253 1453.08 Q525.447 1455.77 525.447 1460.26 Q525.447 1462.39 524.637 1464.31 Q523.85 1466.2 521.744 1468.8 Q521.165 1469.47 518.063 1472.69 Q514.961 1475.88 509.313 1481.64 Z\" fill=\"#000000\" fill-rule=\"evenodd\" fill-opacity=\"1\" /><path clip-path=\"url(#clip580)\" d=\"M962.191 1455.09 L950.385 1473.54 L962.191 1473.54 L962.191 1455.09 M960.964 1451.02 L966.844 1451.02 L966.844 1473.54 L971.774 1473.54 L971.774 1477.43 L966.844 1477.43 L966.844 1485.58 L962.191 1485.58 L962.191 1477.43 L946.589 1477.43 L946.589 1472.92 L960.964 1451.02 Z\" fill=\"#000000\" fill-rule=\"evenodd\" fill-opacity=\"1\" /><path clip-path=\"url(#clip580)\" d=\"M1404.11 1466.44 Q1400.96 1466.44 1399.11 1468.59 Q1397.28 1470.74 1397.28 1474.49 Q1397.28 1478.22 1399.11 1480.39 Q1400.96 1482.55 1404.11 1482.55 Q1407.26 1482.55 1409.08 1480.39 Q1410.94 1478.22 1410.94 1474.49 Q1410.94 1470.74 1409.08 1468.59 Q1407.26 1466.44 1404.11 1466.44 M1413.39 1451.78 L1413.39 1456.04 Q1411.63 1455.21 1409.83 1454.77 Q1408.04 1454.33 1406.28 1454.33 Q1401.65 1454.33 1399.2 1457.45 Q1396.77 1460.58 1396.42 1466.9 Q1397.79 1464.89 1399.85 1463.82 Q1401.91 1462.73 1404.39 1462.73 Q1409.59 1462.73 1412.6 1465.9 Q1415.64 1469.05 1415.64 1474.49 Q1415.64 1479.82 1412.49 1483.03 Q1409.34 1486.25 1404.11 1486.25 Q1398.11 1486.25 1394.94 1481.67 Q1391.77 1477.06 1391.77 1468.33 Q1391.77 1460.14 1395.66 1455.28 Q1399.55 1450.39 1406.1 1450.39 Q1407.86 1450.39 1409.64 1450.74 Q1411.45 1451.09 1413.39 1451.78 Z\" fill=\"#000000\" fill-rule=\"evenodd\" fill-opacity=\"1\" /><path clip-path=\"url(#clip580)\" d=\"M1848.22 1469.17 Q1844.89 1469.17 1842.97 1470.95 Q1841.07 1472.73 1841.07 1475.86 Q1841.07 1478.98 1842.97 1480.77 Q1844.89 1482.55 1848.22 1482.55 Q1851.56 1482.55 1853.48 1480.77 Q1855.4 1478.96 1855.4 1475.86 Q1855.4 1472.73 1853.48 1470.95 Q1851.58 1469.17 1848.22 1469.17 M1843.55 1467.18 Q1840.54 1466.44 1838.85 1464.38 Q1837.18 1462.32 1837.18 1459.35 Q1837.18 1455.21 1840.12 1452.8 Q1843.09 1450.39 1848.22 1450.39 Q1853.39 1450.39 1856.33 1452.8 Q1859.27 1455.21 1859.27 1459.35 Q1859.27 1462.32 1857.58 1464.38 Q1855.91 1466.44 1852.92 1467.18 Q1856.3 1467.96 1858.18 1470.26 Q1860.08 1472.55 1860.08 1475.86 Q1860.08 1480.88 1857 1483.57 Q1853.94 1486.25 1848.22 1486.25 Q1842.51 1486.25 1839.43 1483.57 Q1836.37 1480.88 1836.37 1475.86 Q1836.37 1472.55 1838.27 1470.26 Q1840.17 1467.96 1843.55 1467.18 M1841.84 1459.79 Q1841.84 1462.48 1843.5 1463.98 Q1845.19 1465.49 1848.22 1465.49 Q1851.23 1465.49 1852.92 1463.98 Q1854.64 1462.48 1854.64 1459.79 Q1854.64 1457.11 1852.92 1455.6 Q1851.23 1454.1 1848.22 1454.1 Q1845.19 1454.1 1843.5 1455.6 Q1841.84 1457.11 1841.84 1459.79 Z\" fill=\"#000000\" fill-rule=\"evenodd\" fill-opacity=\"1\" /><path clip-path=\"url(#clip580)\" d=\"M2267.43 1481.64 L2275.07 1481.64 L2275.07 1455.28 L2266.76 1456.95 L2266.76 1452.69 L2275.03 1451.02 L2279.7 1451.02 L2279.7 1481.64 L2287.34 1481.64 L2287.34 1485.58 L2267.43 1485.58 L2267.43 1481.64 Z\" fill=\"#000000\" fill-rule=\"evenodd\" fill-opacity=\"1\" /><path clip-path=\"url(#clip580)\" d=\"M2306.78 1454.1 Q2303.17 1454.1 2301.35 1457.66 Q2299.54 1461.2 2299.54 1468.33 Q2299.54 1475.44 2301.35 1479.01 Q2303.17 1482.55 2306.78 1482.55 Q2310.42 1482.55 2312.22 1479.01 Q2314.05 1475.44 2314.05 1468.33 Q2314.05 1461.2 2312.22 1457.66 Q2310.42 1454.1 2306.78 1454.1 M2306.78 1450.39 Q2312.59 1450.39 2315.65 1455 Q2318.73 1459.58 2318.73 1468.33 Q2318.73 1477.06 2315.65 1481.67 Q2312.59 1486.25 2306.78 1486.25 Q2300.97 1486.25 2297.9 1481.67 Q2294.84 1477.06 2294.84 1468.33 Q2294.84 1459.58 2297.9 1455 Q2300.97 1450.39 2306.78 1450.39 Z\" fill=\"#000000\" fill-rule=\"evenodd\" fill-opacity=\"1\" /><path clip-path=\"url(#clip580)\" d=\"M1309.19 1532.4 L1296.3 1549.74 L1309.86 1568.04 L1302.95 1568.04 L1292.57 1554.04 L1282.2 1568.04 L1275.29 1568.04 L1289.14 1549.39 L1276.47 1532.4 L1283.37 1532.4 L1292.83 1545.1 L1302.28 1532.4 L1309.19 1532.4 Z\" fill=\"#000000\" fill-rule=\"evenodd\" fill-opacity=\"1\" /><polyline clip-path=\"url(#clip582)\" style=\"stroke:#000000; stroke-linecap:butt; stroke-linejoin:round; stroke-width:2; stroke-opacity:0.1; fill:none\" points=\"\n",
       "  232.389,1397.35 2352.76,1397.35 \n",
       "  \"/>\n",
       "<polyline clip-path=\"url(#clip582)\" style=\"stroke:#000000; stroke-linecap:butt; stroke-linejoin:round; stroke-width:2; stroke-opacity:0.1; fill:none\" points=\"\n",
       "  232.389,1069.56 2352.76,1069.56 \n",
       "  \"/>\n",
       "<polyline clip-path=\"url(#clip582)\" style=\"stroke:#000000; stroke-linecap:butt; stroke-linejoin:round; stroke-width:2; stroke-opacity:0.1; fill:none\" points=\"\n",
       "  232.389,741.768 2352.76,741.768 \n",
       "  \"/>\n",
       "<polyline clip-path=\"url(#clip582)\" style=\"stroke:#000000; stroke-linecap:butt; stroke-linejoin:round; stroke-width:2; stroke-opacity:0.1; fill:none\" points=\"\n",
       "  232.389,413.977 2352.76,413.977 \n",
       "  \"/>\n",
       "<polyline clip-path=\"url(#clip582)\" style=\"stroke:#000000; stroke-linecap:butt; stroke-linejoin:round; stroke-width:2; stroke-opacity:0.1; fill:none\" points=\"\n",
       "  232.389,86.1857 2352.76,86.1857 \n",
       "  \"/>\n",
       "<polyline clip-path=\"url(#clip580)\" style=\"stroke:#000000; stroke-linecap:butt; stroke-linejoin:round; stroke-width:4; stroke-opacity:1; fill:none\" points=\"\n",
       "  232.389,1423.18 232.389,47.2441 \n",
       "  \"/>\n",
       "<polyline clip-path=\"url(#clip580)\" style=\"stroke:#000000; stroke-linecap:butt; stroke-linejoin:round; stroke-width:4; stroke-opacity:1; fill:none\" points=\"\n",
       "  232.389,1397.35 251.287,1397.35 \n",
       "  \"/>\n",
       "<polyline clip-path=\"url(#clip580)\" style=\"stroke:#000000; stroke-linecap:butt; stroke-linejoin:round; stroke-width:4; stroke-opacity:1; fill:none\" points=\"\n",
       "  232.389,1069.56 251.287,1069.56 \n",
       "  \"/>\n",
       "<polyline clip-path=\"url(#clip580)\" style=\"stroke:#000000; stroke-linecap:butt; stroke-linejoin:round; stroke-width:4; stroke-opacity:1; fill:none\" points=\"\n",
       "  232.389,741.768 251.287,741.768 \n",
       "  \"/>\n",
       "<polyline clip-path=\"url(#clip580)\" style=\"stroke:#000000; stroke-linecap:butt; stroke-linejoin:round; stroke-width:4; stroke-opacity:1; fill:none\" points=\"\n",
       "  232.389,413.977 251.287,413.977 \n",
       "  \"/>\n",
       "<polyline clip-path=\"url(#clip580)\" style=\"stroke:#000000; stroke-linecap:butt; stroke-linejoin:round; stroke-width:4; stroke-opacity:1; fill:none\" points=\"\n",
       "  232.389,86.1857 251.287,86.1857 \n",
       "  \"/>\n",
       "<path clip-path=\"url(#clip580)\" d=\"M184.445 1383.15 Q180.834 1383.15 179.005 1386.71 Q177.2 1390.26 177.2 1397.38 Q177.2 1404.49 179.005 1408.06 Q180.834 1411.6 184.445 1411.6 Q188.079 1411.6 189.885 1408.06 Q191.713 1404.49 191.713 1397.38 Q191.713 1390.26 189.885 1386.71 Q188.079 1383.15 184.445 1383.15 M184.445 1379.44 Q190.255 1379.44 193.311 1384.05 Q196.389 1388.63 196.389 1397.38 Q196.389 1406.11 193.311 1410.72 Q190.255 1415.3 184.445 1415.3 Q178.635 1415.3 175.556 1410.72 Q172.501 1406.11 172.501 1397.38 Q172.501 1388.63 175.556 1384.05 Q178.635 1379.44 184.445 1379.44 Z\" fill=\"#000000\" fill-rule=\"evenodd\" fill-opacity=\"1\" /><path clip-path=\"url(#clip580)\" d=\"M149.306 1082.9 L165.626 1082.9 L165.626 1086.84 L143.681 1086.84 L143.681 1082.9 Q146.343 1080.15 150.927 1075.52 Q155.533 1070.87 156.714 1069.52 Q158.959 1067 159.839 1065.26 Q160.741 1063.51 160.741 1061.82 Q160.741 1059.06 158.797 1057.33 Q156.876 1055.59 153.774 1055.59 Q151.575 1055.59 149.121 1056.35 Q146.691 1057.12 143.913 1058.67 L143.913 1053.95 Q146.737 1052.81 149.191 1052.23 Q151.644 1051.65 153.681 1051.65 Q159.052 1051.65 162.246 1054.34 Q165.44 1057.02 165.44 1061.51 Q165.44 1063.64 164.63 1065.57 Q163.843 1067.46 161.737 1070.06 Q161.158 1070.73 158.056 1073.95 Q154.954 1077.14 149.306 1082.9 Z\" fill=\"#000000\" fill-rule=\"evenodd\" fill-opacity=\"1\" /><path clip-path=\"url(#clip580)\" d=\"M175.487 1052.28 L193.843 1052.28 L193.843 1056.21 L179.769 1056.21 L179.769 1064.69 Q180.788 1064.34 181.806 1064.18 Q182.825 1063.99 183.843 1063.99 Q189.63 1063.99 193.01 1067.16 Q196.389 1070.33 196.389 1075.75 Q196.389 1081.33 192.917 1084.43 Q189.445 1087.51 183.126 1087.51 Q180.95 1087.51 178.681 1087.14 Q176.436 1086.77 174.028 1086.03 L174.028 1081.33 Q176.112 1082.46 178.334 1083.02 Q180.556 1083.57 183.033 1083.57 Q187.038 1083.57 189.375 1081.47 Q191.713 1079.36 191.713 1075.75 Q191.713 1072.14 189.375 1070.03 Q187.038 1067.93 183.033 1067.93 Q181.158 1067.93 179.283 1068.34 Q177.431 1068.76 175.487 1069.64 L175.487 1052.28 Z\" fill=\"#000000\" fill-rule=\"evenodd\" fill-opacity=\"1\" /><path clip-path=\"url(#clip580)\" d=\"M144.329 724.488 L162.686 724.488 L162.686 728.423 L148.612 728.423 L148.612 736.895 Q149.63 736.548 150.649 736.386 Q151.667 736.201 152.686 736.201 Q158.473 736.201 161.852 739.372 Q165.232 742.543 165.232 747.96 Q165.232 753.539 161.76 756.64 Q158.288 759.719 151.968 759.719 Q149.792 759.719 147.524 759.349 Q145.279 758.978 142.871 758.238 L142.871 753.539 Q144.954 754.673 147.177 755.228 Q149.399 755.784 151.876 755.784 Q155.88 755.784 158.218 753.677 Q160.556 751.571 160.556 747.96 Q160.556 744.349 158.218 742.242 Q155.88 740.136 151.876 740.136 Q150.001 740.136 148.126 740.553 Q146.274 740.969 144.329 741.849 L144.329 724.488 Z\" fill=\"#000000\" fill-rule=\"evenodd\" fill-opacity=\"1\" /><path clip-path=\"url(#clip580)\" d=\"M184.445 727.566 Q180.834 727.566 179.005 731.131 Q177.2 734.673 177.2 741.803 Q177.2 748.909 179.005 752.474 Q180.834 756.015 184.445 756.015 Q188.079 756.015 189.885 752.474 Q191.713 748.909 191.713 741.803 Q191.713 734.673 189.885 731.131 Q188.079 727.566 184.445 727.566 M184.445 723.863 Q190.255 723.863 193.311 728.469 Q196.389 733.053 196.389 741.803 Q196.389 750.529 193.311 755.136 Q190.255 759.719 184.445 759.719 Q178.635 759.719 175.556 755.136 Q172.501 750.529 172.501 741.803 Q172.501 733.053 175.556 728.469 Q178.635 723.863 184.445 723.863 Z\" fill=\"#000000\" fill-rule=\"evenodd\" fill-opacity=\"1\" /><path clip-path=\"url(#clip580)\" d=\"M144.098 396.697 L166.32 396.697 L166.32 398.687 L153.774 431.257 L148.89 431.257 L160.695 400.632 L144.098 400.632 L144.098 396.697 Z\" fill=\"#000000\" fill-rule=\"evenodd\" fill-opacity=\"1\" /><path clip-path=\"url(#clip580)\" d=\"M175.487 396.697 L193.843 396.697 L193.843 400.632 L179.769 400.632 L179.769 409.104 Q180.788 408.757 181.806 408.595 Q182.825 408.41 183.843 408.41 Q189.63 408.41 193.01 411.581 Q196.389 414.752 196.389 420.169 Q196.389 425.748 192.917 428.849 Q189.445 431.928 183.126 431.928 Q180.95 431.928 178.681 431.558 Q176.436 431.187 174.028 430.447 L174.028 425.748 Q176.112 426.882 178.334 427.437 Q180.556 427.993 183.033 427.993 Q187.038 427.993 189.375 425.886 Q191.713 423.78 191.713 420.169 Q191.713 416.558 189.375 414.451 Q187.038 412.345 183.033 412.345 Q181.158 412.345 179.283 412.761 Q177.431 413.178 175.487 414.058 L175.487 396.697 Z\" fill=\"#000000\" fill-rule=\"evenodd\" fill-opacity=\"1\" /><path clip-path=\"url(#clip580)\" d=\"M114.931 99.5305 L122.57 99.5305 L122.57 73.1649 L114.26 74.8316 L114.26 70.5723 L122.524 68.9057 L127.2 68.9057 L127.2 99.5305 L134.839 99.5305 L134.839 103.466 L114.931 103.466 L114.931 99.5305 Z\" fill=\"#000000\" fill-rule=\"evenodd\" fill-opacity=\"1\" /><path clip-path=\"url(#clip580)\" d=\"M154.283 71.9844 Q150.672 71.9844 148.843 75.5492 Q147.038 79.0908 147.038 86.2204 Q147.038 93.3268 148.843 96.8916 Q150.672 100.433 154.283 100.433 Q157.917 100.433 159.723 96.8916 Q161.552 93.3268 161.552 86.2204 Q161.552 79.0908 159.723 75.5492 Q157.917 71.9844 154.283 71.9844 M154.283 68.2807 Q160.093 68.2807 163.149 72.8871 Q166.227 77.4704 166.227 86.2204 Q166.227 94.9472 163.149 99.5537 Q160.093 104.137 154.283 104.137 Q148.473 104.137 145.394 99.5537 Q142.339 94.9472 142.339 86.2204 Q142.339 77.4704 145.394 72.8871 Q148.473 68.2807 154.283 68.2807 Z\" fill=\"#000000\" fill-rule=\"evenodd\" fill-opacity=\"1\" /><path clip-path=\"url(#clip580)\" d=\"M184.445 71.9844 Q180.834 71.9844 179.005 75.5492 Q177.2 79.0908 177.2 86.2204 Q177.2 93.3268 179.005 96.8916 Q180.834 100.433 184.445 100.433 Q188.079 100.433 189.885 96.8916 Q191.713 93.3268 191.713 86.2204 Q191.713 79.0908 189.885 75.5492 Q188.079 71.9844 184.445 71.9844 M184.445 68.2807 Q190.255 68.2807 193.311 72.8871 Q196.389 77.4704 196.389 86.2204 Q196.389 94.9472 193.311 99.5537 Q190.255 104.137 184.445 104.137 Q178.635 104.137 175.556 99.5537 Q172.501 94.9472 172.501 86.2204 Q172.501 77.4704 175.556 72.8871 Q178.635 68.2807 184.445 68.2807 Z\" fill=\"#000000\" fill-rule=\"evenodd\" fill-opacity=\"1\" /><path clip-path=\"url(#clip580)\" d=\"M67.3143 733.525 Q73.68 736.008 75.6216 738.363 Q77.5631 740.718 77.5631 744.665 L77.5631 749.344 L72.6615 749.344 L72.6615 745.906 Q72.6615 743.487 71.5157 742.151 Q70.3699 740.814 66.1048 739.191 L63.4312 738.14 L28.3562 752.559 L28.3562 746.352 L56.238 735.212 L28.3562 724.072 L28.3562 717.865 L67.3143 733.525 Z\" fill=\"#000000\" fill-rule=\"evenodd\" fill-opacity=\"1\" /><polyline clip-path=\"url(#clip582)\" style=\"stroke:#0000ff; stroke-linecap:butt; stroke-linejoin:round; stroke-width:12; stroke-opacity:0.9; fill:none\" stroke-dasharray=\"6, 12\" points=\"\n",
       "  292.4,1384.24 514.66,1344.9 736.921,1279.35 959.182,1187.56 1181.44,1069.56 1403.7,925.331 1625.96,754.879 1848.22,558.205 2070.48,335.307 2292.75,86.1857 \n",
       "  \n",
       "  \"/>\n",
       "<path clip-path=\"url(#clip580)\" d=\"\n",
       "M1961.06 196.789 L2282.08 196.789 L2282.08 93.1086 L1961.06 93.1086  Z\n",
       "  \" fill=\"#ffffff\" fill-rule=\"evenodd\" fill-opacity=\"1\"/>\n",
       "<polyline clip-path=\"url(#clip580)\" style=\"stroke:#000000; stroke-linecap:butt; stroke-linejoin:round; stroke-width:4; stroke-opacity:1; fill:none\" points=\"\n",
       "  1961.06,196.789 2282.08,196.789 2282.08,93.1086 1961.06,93.1086 1961.06,196.789 \n",
       "  \"/>\n",
       "<polyline clip-path=\"url(#clip580)\" style=\"stroke:#0000ff; stroke-linecap:butt; stroke-linejoin:round; stroke-width:4; stroke-opacity:0.9; fill:none\" stroke-dasharray=\"2, 4\" points=\"\n",
       "  1984.62,144.949 2125.98,144.949 \n",
       "  \"/>\n",
       "<path clip-path=\"url(#clip580)\" d=\"M2153.82 158.34 L2153.82 172.09 L2149.54 172.09 L2149.54 136.303 L2153.82 136.303 L2153.82 140.238 Q2155.17 137.923 2157.2 136.812 Q2159.26 135.678 2162.11 135.678 Q2166.83 135.678 2169.77 139.428 Q2172.74 143.178 2172.74 149.289 Q2172.74 155.4 2169.77 159.15 Q2166.83 162.9 2162.11 162.9 Q2159.26 162.9 2157.2 161.789 Q2155.17 160.655 2153.82 158.34 M2168.31 149.289 Q2168.31 144.59 2166.37 141.928 Q2164.45 139.243 2161.07 139.243 Q2157.69 139.243 2155.75 141.928 Q2153.82 144.59 2153.82 149.289 Q2153.82 153.988 2155.75 156.673 Q2157.69 159.335 2161.07 159.335 Q2164.45 159.335 2166.37 156.673 Q2168.31 153.988 2168.31 149.289 Z\" fill=\"#000000\" fill-rule=\"evenodd\" fill-opacity=\"1\" /><path clip-path=\"url(#clip580)\" d=\"M2179.8 126.21 L2184.06 126.21 L2184.06 162.229 L2179.8 162.229 L2179.8 126.21 Z\" fill=\"#000000\" fill-rule=\"evenodd\" fill-opacity=\"1\" /><path clip-path=\"url(#clip580)\" d=\"M2203.01 139.289 Q2199.59 139.289 2197.6 141.974 Q2195.61 144.636 2195.61 149.289 Q2195.61 153.942 2197.57 156.627 Q2199.56 159.289 2203.01 159.289 Q2206.42 159.289 2208.41 156.604 Q2210.4 153.918 2210.4 149.289 Q2210.4 144.682 2208.41 141.997 Q2206.42 139.289 2203.01 139.289 M2203.01 135.678 Q2208.57 135.678 2211.74 139.289 Q2214.91 142.9 2214.91 149.289 Q2214.91 155.655 2211.74 159.289 Q2208.57 162.9 2203.01 162.9 Q2197.43 162.9 2194.26 159.289 Q2191.12 155.655 2191.12 149.289 Q2191.12 142.9 2194.26 139.289 Q2197.43 135.678 2203.01 135.678 Z\" fill=\"#000000\" fill-rule=\"evenodd\" fill-opacity=\"1\" /><path clip-path=\"url(#clip580)\" d=\"M2226.18 128.942 L2226.18 136.303 L2234.96 136.303 L2234.96 139.613 L2226.18 139.613 L2226.18 153.687 Q2226.18 156.858 2227.04 157.761 Q2227.92 158.664 2230.58 158.664 L2234.96 158.664 L2234.96 162.229 L2230.58 162.229 Q2225.65 162.229 2223.78 160.4 Q2221.9 158.548 2221.9 153.687 L2221.9 139.613 L2218.78 139.613 L2218.78 136.303 L2221.9 136.303 L2221.9 128.942 L2226.18 128.942 Z\" fill=\"#000000\" fill-rule=\"evenodd\" fill-opacity=\"1\" /></svg>\n"
      ]
     },
     "execution_count": 84,
     "metadata": {},
     "output_type": "execute_result"
    }
   ],
   "source": [
    "sq(x) = x ^ 2\n",
    "plot(sq, 1:10, label=\"plot\", xlabel=\"x\",  ylabel=\"y\",line = (:blue,0.9,3, :dot))"
   ]
  },
  {
   "cell_type": "code",
   "execution_count": 91,
   "id": "21f13608",
   "metadata": {},
   "outputs": [
    {
     "data": {
      "text/plain": [
       "1.651419468994943e9"
      ]
     },
     "execution_count": 91,
     "metadata": {},
     "output_type": "execute_result"
    }
   ],
   "source": [
    "time()"
   ]
  },
  {
   "cell_type": "code",
   "execution_count": 101,
   "id": "b9237eb2",
   "metadata": {},
   "outputs": [
    {
     "ename": "LoadError",
     "evalue": "ArgumentError: Package SharedArray not found in current path:\n- Run `import Pkg; Pkg.add(\"SharedArray\")` to install the SharedArray package.\n",
     "output_type": "error",
     "traceback": [
      "ArgumentError: Package SharedArray not found in current path:\n- Run `import Pkg; Pkg.add(\"SharedArray\")` to install the SharedArray package.\n",
      "",
      "Stacktrace:",
      " [1] require(into::Module, mod::Symbol)",
      "   @ Base ./loading.jl:967",
      " [2] eval",
      "   @ ./boot.jl:373 [inlined]",
      " [3] include_string(mapexpr::typeof(REPL.softscope), mod::Module, code::String, filename::String)",
      "   @ Base ./loading.jl:1196"
     ]
    }
   ],
   "source": [
    "using Distributed\n",
    "# using SharedArray\n",
    "addprocs(2)\n",
    "using SharedArray\n",
    "simulation = SharedArray{Float64}(100)"
   ]
  },
  {
   "cell_type": "code",
   "execution_count": null,
   "id": "3e72a8a1",
   "metadata": {},
   "outputs": [],
   "source": []
  }
 ],
 "metadata": {
  "kernelspec": {
   "display_name": "Julia 1.7.2",
   "language": "julia",
   "name": "julia-1.7"
  },
  "language_info": {
   "file_extension": ".jl",
   "mimetype": "application/julia",
   "name": "julia",
   "version": "1.7.2"
  }
 },
 "nbformat": 4,
 "nbformat_minor": 5
}
