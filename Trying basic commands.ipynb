{
 "cells": [
  {
   "cell_type": "markdown",
   "id": "f6e21dfe",
   "metadata": {},
   "source": [
    "Function methods based on type"
   ]
  },
  {
   "cell_type": "code",
   "execution_count": 5,
   "id": "cf496908",
   "metadata": {},
   "outputs": [
    {
     "data": {
      "text/html": [
       "# 14 methods for generic function <b>sum</b>:<ul><li> sum(f::<b>Union{Function, Type}</b>, x::<b>SparseArrays.AbstractSparseVector</b>) in SparseArrays at <a href=\"file:///buildworker/worker/package_linux64/build/usr/share/julia/stdlib/v1.7/SparseArrays/src/sparsevector.jl\" target=\"_blank\">/opt/julia-1.7.2/share/julia/stdlib/v1.7/SparseArrays/src/sparsevector.jl:1376</a></li> <li> sum(x::<b>SparseArrays.AbstractSparseVector</b>) in SparseArrays at <a href=\"file:///buildworker/worker/package_linux64/build/usr/share/julia/stdlib/v1.7/SparseArrays/src/sparsevector.jl\" target=\"_blank\">/opt/julia-1.7.2/share/julia/stdlib/v1.7/SparseArrays/src/sparsevector.jl:1378</a></li> <li> sum(x::<b>Tuple{Any, Vararg{Any}}</b>) in Base at <a href=\"https://github.com/JuliaLang/julia/tree/bf534986350a991e4a1b29126de0342ffd76205e/base/tuple.jl#L493\" target=\"_blank\">tuple.jl:493</a></li> <li> sum(r::<b>StepRangeLen{<:Any, <:Base.TwicePrecision, <:Base.TwicePrecision}</b>) in Base at <a href=\"https://github.com/JuliaLang/julia/tree/bf534986350a991e4a1b29126de0342ffd76205e/base/twiceprecision.jl#L592\" target=\"_blank\">twiceprecision.jl:592</a></li> <li> sum(r::<b>StepRangeLen</b>) in Base at <a href=\"https://github.com/JuliaLang/julia/tree/bf534986350a991e4a1b29126de0342ffd76205e/base/twiceprecision.jl#L577\" target=\"_blank\">twiceprecision.jl:577</a></li> <li> sum(r::<b>AbstractRange{<:Real}</b>) in Base at <a href=\"https://github.com/JuliaLang/julia/tree/bf534986350a991e4a1b29126de0342ffd76205e/base/range.jl#L1312\" target=\"_blank\">range.jl:1312</a></li> <li> sum(arr::<b>Union{Tuple{BigInt, Vararg{BigInt}}, AbstractArray{BigInt}}</b>) in Base.GMP at <a href=\"https://github.com/JuliaLang/julia/tree/bf534986350a991e4a1b29126de0342ffd76205e/base/gmp.jl#L636\" target=\"_blank\">gmp.jl:636</a></li> <li> sum(a::<b>AbstractArray{Bool}</b>; <i>kw...</i>) in Base at <a href=\"https://github.com/JuliaLang/julia/tree/bf534986350a991e4a1b29126de0342ffd76205e/base/reduce.jl#L533\" target=\"_blank\">reduce.jl:533</a></li> <li> sum(arr::<b>AbstractArray{BigFloat}</b>) in Base.MPFR at <a href=\"https://github.com/JuliaLang/julia/tree/bf534986350a991e4a1b29126de0342ffd76205e/base/mpfr.jl#L730\" target=\"_blank\">mpfr.jl:730</a></li> <li> sum(a::<b>AbstractArray</b>; <i>dims, kw...</i>) in Base at <a href=\"https://github.com/JuliaLang/julia/tree/bf534986350a991e4a1b29126de0342ffd76205e/base/reducedim.jl#L889\" target=\"_blank\">reducedim.jl:889</a></li> <li> sum(a; <i>kw...</i>) in Base at <a href=\"https://github.com/JuliaLang/julia/tree/bf534986350a991e4a1b29126de0342ffd76205e/base/reduce.jl#L532\" target=\"_blank\">reduce.jl:532</a></li> <li> sum(f, x::<b>SparseArrays.AbstractSparseVector</b>) in SparseArrays at <a href=\"file:///buildworker/worker/package_linux64/build/usr/share/julia/stdlib/v1.7/SparseArrays/src/sparsevector.jl\" target=\"_blank\">/opt/julia-1.7.2/share/julia/stdlib/v1.7/SparseArrays/src/sparsevector.jl:1377</a></li> <li> sum(f, a::<b>AbstractArray</b>; <i>dims, kw...</i>) in Base at <a href=\"https://github.com/JuliaLang/julia/tree/bf534986350a991e4a1b29126de0342ffd76205e/base/reducedim.jl#L890\" target=\"_blank\">reducedim.jl:890</a></li> <li> sum(f, a; <i>kw...</i>) in Base at <a href=\"https://github.com/JuliaLang/julia/tree/bf534986350a991e4a1b29126de0342ffd76205e/base/reduce.jl#L503\" target=\"_blank\">reduce.jl:503</a></li> </ul>"
      ],
      "text/plain": [
       "# 14 methods for generic function \"sum\":\n",
       "[1] sum(f::Union{Function, Type}, x::SparseArrays.AbstractSparseVector) in SparseArrays at /opt/julia-1.7.2/share/julia/stdlib/v1.7/SparseArrays/src/sparsevector.jl:1376\n",
       "[2] sum(x::SparseArrays.AbstractSparseVector) in SparseArrays at /opt/julia-1.7.2/share/julia/stdlib/v1.7/SparseArrays/src/sparsevector.jl:1378\n",
       "[3] sum(x::Tuple{Any, Vararg{Any}}) in Base at tuple.jl:493\n",
       "[4] sum(r::StepRangeLen{<:Any, <:Base.TwicePrecision, <:Base.TwicePrecision}) in Base at twiceprecision.jl:592\n",
       "[5] sum(r::StepRangeLen) in Base at twiceprecision.jl:577\n",
       "[6] sum(r::AbstractRange{<:Real}) in Base at range.jl:1312\n",
       "[7] sum(arr::Union{Tuple{BigInt, Vararg{BigInt}}, AbstractArray{BigInt}}) in Base.GMP at gmp.jl:636\n",
       "[8] sum(a::AbstractArray{Bool}; kw...) in Base at reduce.jl:533\n",
       "[9] sum(arr::AbstractArray{BigFloat}) in Base.MPFR at mpfr.jl:730\n",
       "[10] sum(a::AbstractArray; dims, kw...) in Base at reducedim.jl:889\n",
       "[11] sum(a; kw...) in Base at reduce.jl:532\n",
       "[12] sum(f, x::SparseArrays.AbstractSparseVector) in SparseArrays at /opt/julia-1.7.2/share/julia/stdlib/v1.7/SparseArrays/src/sparsevector.jl:1377\n",
       "[13] sum(f, a::AbstractArray; dims, kw...) in Base at reducedim.jl:890\n",
       "[14] sum(f, a; kw...) in Base at reduce.jl:503"
      ]
     },
     "execution_count": 5,
     "metadata": {},
     "output_type": "execute_result"
    }
   ],
   "source": [
    "methods(cos)\n",
    "methods(sum)"
   ]
  },
  {
   "cell_type": "code",
   "execution_count": 32,
   "id": "136b038e",
   "metadata": {},
   "outputs": [
    {
     "name": "stdout",
     "output_type": "stream",
     "text": [
      "11"
     ]
    },
    {
     "data": {
      "text/plain": [
       "(Int64, Char, Int64, 8, 4)"
      ]
     },
     "execution_count": 32,
     "metadata": {},
     "output_type": "execute_result"
    }
   ],
   "source": [
    "a = 1\n",
    "b = '1'\n",
    "print(a, b)\n",
    "typeof(a), typeof(b), eltype(a), sizeof(a), sizeof(b)"
   ]
  },
  {
   "cell_type": "code",
   "execution_count": 33,
   "id": "0a757d11",
   "metadata": {},
   "outputs": [
    {
     "data": {
      "text/latex": [
       "\\begin{tabular}\n",
       "{l | r | l}\n",
       "name & size & summary \\\\\n",
       "\\hline\n",
       "Base &  & Module \\\\\n",
       "Core &  & Module \\\\\n",
       "Main &  & Module \\\\\n",
       "a & 8 bytes & Int64 \\\\\n",
       "b & 4 bytes & Char \\\\\n",
       "\\end{tabular}\n"
      ],
      "text/markdown": [
       "| name |    size | summary |\n",
       "|:---- | -------:|:------- |\n",
       "| Base |         | Module  |\n",
       "| Core |         | Module  |\n",
       "| Main |         | Module  |\n",
       "| a    | 8 bytes | Int64   |\n",
       "| b    | 4 bytes | Char    |\n"
      ],
      "text/plain": [
       "  name    size summary\n",
       "  –––– ––––––– –––––––\n",
       "  Base         Module \n",
       "  Core         Module \n",
       "  Main         Module \n",
       "  a    8 bytes Int64  \n",
       "  b    4 bytes Char   "
      ]
     },
     "execution_count": 33,
     "metadata": {},
     "output_type": "execute_result"
    }
   ],
   "source": [
    "varinfo()"
   ]
  },
  {
   "cell_type": "code",
   "execution_count": 39,
   "id": "35505812",
   "metadata": {},
   "outputs": [
    {
     "data": {
      "text/plain": [
       "1"
      ]
     },
     "execution_count": 39,
     "metadata": {},
     "output_type": "execute_result"
    }
   ],
   "source": [
    "#\\alpha+tab\n",
    "α = 1"
   ]
  },
  {
   "cell_type": "code",
   "execution_count": 47,
   "id": "5e20f1ee",
   "metadata": {},
   "outputs": [
    {
     "data": {
      "text/plain": [
       "4"
      ]
     },
     "execution_count": 47,
     "metadata": {},
     "output_type": "execute_result"
    }
   ],
   "source": [
    "ℵ = 3\n",
    "☎ = 1\n",
    "ℵ+☎"
   ]
  },
  {
   "cell_type": "code",
   "execution_count": 56,
   "id": "5b5e5c0c",
   "metadata": {},
   "outputs": [
    {
     "data": {
      "text/plain": [
       "(π, π, ℯ, Irrational{:ℯ}, Irrational{:π})"
      ]
     },
     "execution_count": 56,
     "metadata": {},
     "output_type": "execute_result"
    }
   ],
   "source": [
    "pi, π, ℯ ,typeof(ℯ), typeof(pi)"
   ]
  },
  {
   "cell_type": "code",
   "execution_count": 67,
   "id": "77b028d4",
   "metadata": {},
   "outputs": [
    {
     "data": {
      "text/plain": [
       "(19//28, 19, 28, 1//4, 1//0, 0.6785714285714286, 19//28)"
      ]
     },
     "execution_count": 67,
     "metadata": {},
     "output_type": "execute_result"
    }
   ],
   "source": [
    "a = 2 // 8\n",
    "b = 3 // 7\n",
    "c = a + b\n",
    "d = 1 // 0\n",
    "c, numerator(c), denominator(c), a, d ,float(c), rationalize(float(c))"
   ]
  },
  {
   "cell_type": "code",
   "execution_count": 80,
   "id": "d65b1b6a",
   "metadata": {},
   "outputs": [
    {
     "data": {
      "text/plain": [
       "(3, 0x03, 0x03, 3.0, 4 + 3im, 3 + 4im, \"hi\", \"0000000000000000000000000000000000000000000000000000000000000011\")"
      ]
     },
     "execution_count": 80,
     "metadata": {},
     "output_type": "execute_result"
    }
   ],
   "source": [
    "a = 3\n",
    "b = 0x3\n",
    "c = 0b11\n",
    "d = 3.0\n",
    "e = 4 + 3im\n",
    "f = complex(3, 4)\n",
    "g = \"hi\"\n",
    "a, b, c, d, e, f, g, bitstring(a)"
   ]
  },
  {
   "cell_type": "code",
   "execution_count": 83,
   "id": "d5bfb2d8",
   "metadata": {},
   "outputs": [
    {
     "data": {
      "text/plain": [
       "(3.0f0, 3)"
      ]
     },
     "execution_count": 83,
     "metadata": {},
     "output_type": "execute_result"
    }
   ],
   "source": [
    "convert(Float32, a), convert(Int16, d)"
   ]
  },
  {
   "cell_type": "code",
   "execution_count": 95,
   "id": "109f6fa9",
   "metadata": {},
   "outputs": [
    {
     "data": {
      "text/plain": [
       "(6.0, 6.0, 5.0, 5.0, 5.2)"
      ]
     },
     "execution_count": 95,
     "metadata": {},
     "output_type": "execute_result"
    }
   ],
   "source": [
    "a = 5.6\n",
    "round(a), ceil(a), floor(a), trunc(a), clamp(a, 5.1, 5.2)"
   ]
  },
  {
   "cell_type": "code",
   "execution_count": 103,
   "id": "be109ac2",
   "metadata": {},
   "outputs": [
    {
     "data": {
      "text/plain": [
       "(4.8, 5.6, (4.8, 5.6))"
      ]
     },
     "execution_count": 103,
     "metadata": {},
     "output_type": "execute_result"
    }
   ],
   "source": [
    "a = 5.6; b = 4.8\n",
    "min(a, b), max(a, b), minmax(a, b)"
   ]
  },
  {
   "cell_type": "code",
   "execution_count": 105,
   "id": "ddcbcb09",
   "metadata": {},
   "outputs": [
    {
     "data": {
      "text/plain": [
       "11.499999999999998"
      ]
     },
     "execution_count": 105,
     "metadata": {},
     "output_type": "execute_result"
    }
   ],
   "source": [
    "c = 1.1\n",
    "+(a, b, c)"
   ]
  },
  {
   "cell_type": "code",
   "execution_count": 110,
   "id": "02d9b2d4",
   "metadata": {
    "scrolled": true
   },
   "outputs": [
    {
     "data": {
      "text/plain": [
       "(35, 35)"
      ]
     },
     "execution_count": 110,
     "metadata": {},
     "output_type": "execute_result"
    }
   ],
   "source": [
    "a = 5\n",
    "7*a, 7a"
   ]
  },
  {
   "cell_type": "markdown",
   "id": "68b5c70a",
   "metadata": {},
   "source": [
    "arrays"
   ]
  },
  {
   "cell_type": "code",
   "execution_count": 121,
   "id": "8e65396b",
   "metadata": {},
   "outputs": [
    {
     "data": {
      "text/plain": [
       "2×2 Matrix{Float64}:\n",
       " 6.94335e-310  6.94341e-310\n",
       " 6.94335e-310  6.94335e-310"
      ]
     },
     "execution_count": 121,
     "metadata": {},
     "output_type": "execute_result"
    }
   ],
   "source": [
    "a = Array{Float64}(undef, 2,2)"
   ]
  },
  {
   "cell_type": "code",
   "execution_count": 119,
   "id": "25991993",
   "metadata": {},
   "outputs": [
    {
     "data": {
      "text/plain": [
       "2×2 Matrix{Any}:\n",
       "  \"hi\"      2\n",
       " 3.2    false"
      ]
     },
     "execution_count": 119,
     "metadata": {},
     "output_type": "execute_result"
    }
   ],
   "source": [
    "a = [\"hi\" 2;\n",
    "    3.2 false]"
   ]
  },
  {
   "cell_type": "code",
   "execution_count": 122,
   "id": "07a364f2",
   "metadata": {},
   "outputs": [
    {
     "data": {
      "text/plain": [
       "2×2×2 Array{Any, 3}:\n",
       "[:, :, 1] =\n",
       " #undef  #undef\n",
       " #undef  #undef\n",
       "\n",
       "[:, :, 2] =\n",
       " #undef  #undef\n",
       " #undef  #undef"
      ]
     },
     "execution_count": 122,
     "metadata": {},
     "output_type": "execute_result"
    }
   ],
   "source": [
    "a = Array{Any}(undef, 2, 2, 2)"
   ]
  },
  {
   "cell_type": "code",
   "execution_count": 125,
   "id": "9a3c1240",
   "metadata": {},
   "outputs": [
    {
     "data": {
      "text/plain": [
       "(3, (2, 2, 2), 8, (Base.OneTo(2), Base.OneTo(2), Base.OneTo(2)))"
      ]
     },
     "execution_count": 125,
     "metadata": {},
     "output_type": "execute_result"
    }
   ],
   "source": [
    "ndims(a), size(a), length(a), axes(a)"
   ]
  },
  {
   "cell_type": "code",
   "execution_count": 126,
   "id": "27276881",
   "metadata": {},
   "outputs": [
    {
     "data": {
      "text/plain": [
       "2×2×2 Array{Int64, 3}:\n",
       "[:, :, 1] =\n",
       " 140536403740112  140536221927616\n",
       " 140536439259144  140536382927632\n",
       "\n",
       "[:, :, 2] =\n",
       " 140536221927616  140536439259144\n",
       " 140536403742320  140536439259144"
      ]
     },
     "execution_count": 126,
     "metadata": {},
     "output_type": "execute_result"
    }
   ],
   "source": [
    "b = similar(a,Int)"
   ]
  },
  {
   "cell_type": "code",
   "execution_count": 133,
   "id": "168e8a77",
   "metadata": {},
   "outputs": [
    {
     "name": "stdout",
     "output_type": "stream",
     "text": [
      "Any[\"hi\" 1 2 3]Any[\"hi\" 1 2 3]"
     ]
    },
    {
     "data": {
      "text/plain": [
       "(Any[[\"bye\"] 1 2 3], Any[[\"bye\"] 1 2 3], Any[\"hi\" 1 2 3])"
      ]
     },
     "execution_count": 133,
     "metadata": {},
     "output_type": "execute_result"
    }
   ],
   "source": [
    "a = [\"hi\" 1 2 3]\n",
    "b = a\n",
    "c = copy(a)\n",
    "print(a, b)\n",
    "a[1,1] = [\"bye\"]\n",
    "a, b, c"
   ]
  },
  {
   "cell_type": "markdown",
   "id": "127738d9",
   "metadata": {},
   "source": [
    "vectors"
   ]
  },
  {
   "cell_type": "code",
   "execution_count": 135,
   "id": "face1de8",
   "metadata": {},
   "outputs": [
    {
     "data": {
      "text/plain": [
       "3-element Vector{Int64}:\n",
       " 1\n",
       " 2\n",
       " 3"
      ]
     },
     "execution_count": 135,
     "metadata": {},
     "output_type": "execute_result"
    }
   ],
   "source": [
    "a = [1, 2, 3]; a = [1; 2; 3]"
   ]
  },
  {
   "cell_type": "code",
   "execution_count": 143,
   "id": "ac013a8a",
   "metadata": {},
   "outputs": [
    {
     "data": {
      "text/plain": [
       "(false, true)"
      ]
     },
     "execution_count": 143,
     "metadata": {},
     "output_type": "execute_result"
    }
   ],
   "source": [
    "b = [1 2 3]; c = [1 2 3]'\n",
    "b == c, b == c'"
   ]
  },
  {
   "cell_type": "code",
   "execution_count": 152,
   "id": "2649ef99",
   "metadata": {},
   "outputs": [
    {
     "data": {
      "text/plain": [
       "3-element Vector{Int64}:\n",
       " 2\n",
       " 3\n",
       " 4"
      ]
     },
     "execution_count": 152,
     "metadata": {},
     "output_type": "execute_result"
    }
   ],
   "source": [
    "a = collect(2:1:4)\n",
    "a"
   ]
  },
  {
   "cell_type": "code",
   "execution_count": 159,
   "id": "6ffc781f",
   "metadata": {},
   "outputs": [
    {
     "data": {
      "text/plain": [
       "1.0:4.0:5.0"
      ]
     },
     "execution_count": 159,
     "metadata": {},
     "output_type": "execute_result"
    }
   ],
   "source": [
    "a = range(1, 5, length=2)"
   ]
  },
  {
   "cell_type": "code",
   "execution_count": 160,
   "id": "2a2809d7",
   "metadata": {},
   "outputs": [
    {
     "data": {
      "text/plain": [
       "2-element Vector{Float64}:\n",
       " 1.0\n",
       " 5.0"
      ]
     },
     "execution_count": 160,
     "metadata": {},
     "output_type": "execute_result"
    }
   ],
   "source": [
    "collect(a)"
   ]
  },
  {
   "cell_type": "code",
   "execution_count": 180,
   "id": "7857c9cd",
   "metadata": {},
   "outputs": [
    {
     "name": "stdout",
     "output_type": "stream",
     "text": [
      "[1, 3, 5, 7, 9]"
     ]
    },
    {
     "data": {
      "text/plain": [
       "([1, 3, 5, 7, 9], [2, 4, 6, 8, 10], [2, 4, 6, 8, 10], nothing, 9, 7, [1, 3, 5, 7, 9])"
      ]
     },
     "execution_count": 180,
     "metadata": {},
     "output_type": "execute_result"
    }
   ],
   "source": [
    "a = collect(x for x in 1:10 if isodd(x))\n",
    "b = collect(x for x in 1:10 if iseven(x))\n",
    "c = [x for x in 1:10 if iseven(x)]\n",
    "a,b,c, show(a), a[end] ,a[end-1], sort(a)"
   ]
  },
  {
   "cell_type": "code",
   "execution_count": 183,
   "id": "6165b6a6",
   "metadata": {},
   "outputs": [
    {
     "data": {
      "text/plain": [
       "(true, false, false)"
      ]
     },
     "execution_count": 183,
     "metadata": {},
     "output_type": "execute_result"
    }
   ],
   "source": [
    "2 in b, 2 in a, in(2, a)"
   ]
  },
  {
   "cell_type": "code",
   "execution_count": 188,
   "id": "517d74b8",
   "metadata": {},
   "outputs": [
    {
     "data": {
      "text/plain": [
       "([5, 7, 9], 5, [7, 9])"
      ]
     },
     "execution_count": 188,
     "metadata": {},
     "output_type": "execute_result"
    }
   ],
   "source": [
    "sort(a), popfirst!(a), a   #inplace"
   ]
  },
  {
   "cell_type": "markdown",
   "id": "61526741",
   "metadata": {},
   "source": [
    "Matrices"
   ]
  },
  {
   "cell_type": "code",
   "execution_count": 25,
   "id": "a74f6d63",
   "metadata": {},
   "outputs": [
    {
     "data": {
      "text/plain": [
       "2×2 Matrix{Int64}:\n",
       " 2  4\n",
       " 4  6"
      ]
     },
     "execution_count": 25,
     "metadata": {},
     "output_type": "execute_result"
    }
   ],
   "source": [
    "a = [1 2; 3 4]\n",
    "b = [1 2]\n",
    "broadcast(+,a , b)"
   ]
  },
  {
   "cell_type": "code",
   "execution_count": 26,
   "id": "6696e027",
   "metadata": {},
   "outputs": [],
   "source": [
    "using SparseArrays "
   ]
  },
  {
   "cell_type": "code",
   "execution_count": 30,
   "id": "67bf6ec4",
   "metadata": {},
   "outputs": [],
   "source": [
    "a = spzeros(100,100);\n",
    "s = sparse(a);"
   ]
  },
  {
   "cell_type": "code",
   "execution_count": 32,
   "id": "4d90d01d",
   "metadata": {},
   "outputs": [],
   "source": [
    "a = Matrix(s);"
   ]
  },
  {
   "cell_type": "code",
   "execution_count": 34,
   "id": "79eb1f2f",
   "metadata": {
    "scrolled": true
   },
   "outputs": [
    {
     "data": {
      "text/plain": [
       "(Int64[], Int64[], Float64[])"
      ]
     },
     "execution_count": 34,
     "metadata": {},
     "output_type": "execute_result"
    }
   ],
   "source": [
    "findnz(s)"
   ]
  },
  {
   "cell_type": "markdown",
   "id": "fe27750e",
   "metadata": {},
   "source": [
    "charecters"
   ]
  },
  {
   "cell_type": "code",
   "execution_count": 38,
   "id": "24cfc992",
   "metadata": {},
   "outputs": [
    {
     "data": {
      "text/plain": [
       "97"
      ]
     },
     "execution_count": 38,
     "metadata": {},
     "output_type": "execute_result"
    }
   ],
   "source": [
    "Int32('a')"
   ]
  },
  {
   "cell_type": "code",
   "execution_count": 42,
   "id": "974fc333",
   "metadata": {},
   "outputs": [
    {
     "data": {
      "text/plain": [
       "'a': ASCII/Unicode U+0061 (category Ll: Letter, lowercase)"
      ]
     },
     "execution_count": 42,
     "metadata": {},
     "output_type": "execute_result"
    }
   ],
   "source": [
    "Char(97)"
   ]
  },
  {
   "cell_type": "markdown",
   "id": "9b8b725e",
   "metadata": {},
   "source": [
    "string"
   ]
  },
  {
   "cell_type": "code",
   "execution_count": 60,
   "id": "6441fb7b",
   "metadata": {},
   "outputs": [
    {
     "data": {
      "text/plain": [
       "('i', 'm', String, 'a')"
      ]
     },
     "execution_count": 60,
     "metadata": {},
     "output_type": "execute_result"
    }
   ],
   "source": [
    "a = \"i am am\"\n",
    "a[1] ,a[end], typeof(a), a[end-1]"
   ]
  },
  {
   "cell_type": "markdown",
   "id": "d717cd50",
   "metadata": {},
   "source": [
    "IO"
   ]
  },
  {
   "cell_type": "code",
   "execution_count": 64,
   "id": "f4ceb592",
   "metadata": {},
   "outputs": [
    {
     "name": "stdout",
     "output_type": "stream",
     "text": [
      "11\n",
      "1"
     ]
    }
   ],
   "source": [
    "a = 1\n",
    "print(a)\n",
    "println(a)  #\\n\n",
    "print(a)"
   ]
  },
  {
   "cell_type": "code",
   "execution_count": 68,
   "id": "ca95babf",
   "metadata": {},
   "outputs": [
    {
     "name": "stdout",
     "output_type": "stream",
     "text": [
      "\u001b[33ma\u001b[39m"
     ]
    }
   ],
   "source": [
    "printstyled(\"a\",color=:yellow)"
   ]
  },
  {
   "cell_type": "code",
   "execution_count": 69,
   "id": "53c957e6",
   "metadata": {},
   "outputs": [
    {
     "name": "stdout",
     "output_type": "stream",
     "text": [
      "stdin> \\f\n"
     ]
    },
    {
     "data": {
      "text/plain": [
       "\"\\\\f\""
      ]
     },
     "execution_count": 69,
     "metadata": {},
     "output_type": "execute_result"
    }
   ],
   "source": [
    "a = readline()"
   ]
  },
  {
   "cell_type": "code",
   "execution_count": 86,
   "id": "a4700899",
   "metadata": {},
   "outputs": [
    {
     "ename": "LoadError",
     "evalue": "MethodError: no method matching read(::IOStream, ::Char)\n\u001b[0mClosest candidates are:\n\u001b[0m  read(\u001b[91m::AbstractString\u001b[39m, ::Any...) at /opt/julia-1.7.2/share/julia/base/io.jl:434\n\u001b[0m  read(::IOStream) at /opt/julia-1.7.2/share/julia/base/iostream.jl:518\n\u001b[0m  read(::IO, \u001b[91m::Type{String}\u001b[39m) at /opt/julia-1.7.2/share/julia/base/io.jl:969\n\u001b[0m  ...",
     "output_type": "error",
     "traceback": [
      "MethodError: no method matching read(::IOStream, ::Char)\n\u001b[0mClosest candidates are:\n\u001b[0m  read(\u001b[91m::AbstractString\u001b[39m, ::Any...) at /opt/julia-1.7.2/share/julia/base/io.jl:434\n\u001b[0m  read(::IOStream) at /opt/julia-1.7.2/share/julia/base/iostream.jl:518\n\u001b[0m  read(::IO, \u001b[91m::Type{String}\u001b[39m) at /opt/julia-1.7.2/share/julia/base/io.jl:969\n\u001b[0m  ...",
      "",
      "Stacktrace:",
      " [1] top-level scope",
      "   @ In[86]:2",
      " [2] eval",
      "   @ ./boot.jl:373 [inlined]",
      " [3] include_string(mapexpr::typeof(REPL.softscope), mod::Module, code::String, filename::String)",
      "   @ Base ./loading.jl:1196"
     ]
    }
   ],
   "source": [
    "f = open(\"README.md\", \"r\")\n",
    "data = read(f, ',')\n",
    "data"
   ]
  },
  {
   "cell_type": "code",
   "execution_count": null,
   "id": "6218f563",
   "metadata": {},
   "outputs": [],
   "source": []
  }
 ],
 "metadata": {
  "kernelspec": {
   "display_name": "Julia 1.7.2",
   "language": "julia",
   "name": "julia-1.7"
  },
  "language_info": {
   "file_extension": ".jl",
   "mimetype": "application/julia",
   "name": "julia",
   "version": "1.7.2"
  }
 },
 "nbformat": 4,
 "nbformat_minor": 5
}
